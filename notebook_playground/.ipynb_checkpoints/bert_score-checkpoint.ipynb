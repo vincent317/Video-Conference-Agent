{
 "cells": [
  {
   "cell_type": "code",
   "execution_count": 3,
   "id": "5fa1ac4e",
   "metadata": {},
   "outputs": [],
   "source": [
    "from evaluate import load"
   ]
  },
  {
   "cell_type": "code",
   "execution_count": 6,
   "id": "b8fb28df",
   "metadata": {},
   "outputs": [],
   "source": [
    "# !pip install bert_score"
   ]
  },
  {
   "cell_type": "code",
   "execution_count": 7,
   "id": "25528b39",
   "metadata": {},
   "outputs": [],
   "source": [
    "bertscore = load(\"bertscore\")"
   ]
  },
  {
   "cell_type": "markdown",
   "id": "cf4678a0",
   "metadata": {},
   "source": [
    "## Vincent's meeting transcript"
   ]
  },
  {
   "cell_type": "code",
   "execution_count": 15,
   "id": "dc40fe4e",
   "metadata": {},
   "outputs": [
    {
     "name": "stdout",
     "output_type": "stream",
     "text": [
      "0.9638067781925201\n"
     ]
    }
   ],
   "source": [
    "predictions = [\"Vincent will use Mass. H. I. D's APIs for extracting agenda and action items from the Meeting Transcript.\",\n",
    "               \"Jeffrey Feng will submit the plan and design document.\"]\n",
    "references = [\"Vincent will investigate ChatGPT’s APIs for extracting agenda and action items from the meeting transcript.\", \n",
    "              \"Jeffrey Feng will submit the plan and design documents.\"]\n",
    "results = bertscore.compute(predictions=predictions, references=references, lang=\"en\")\n",
    "\n",
    "s = 0\n",
    "for a in results['f1']:\n",
    "    s += a\n",
    "print(s / 2)"
   ]
  },
  {
   "cell_type": "code",
   "execution_count": 16,
   "id": "9fac3a4b",
   "metadata": {},
   "outputs": [
    {
     "name": "stdout",
     "output_type": "stream",
     "text": [
      "0.9939448833465576\n"
     ]
    }
   ],
   "source": [
    "predictions = [\"Vincent will read OpenAI's technical report for GPT-4 and present a summary to the team.\",\n",
    "\"Yooni Choi will investigate whether the middle management layer is helping or slowing the company's efficiency.\"]\n",
    "references = [\"Vincent will read OpenAI’s technical report for GPT-4 and present a summary of it to the team.\",\n",
    "             \"Yooni Choi will investigate whether the middle management layer is helping or slowing the company's efficiency.\"]\n",
    "results = bertscore.compute(predictions=predictions, references=references, lang=\"en\")\n",
    "\n",
    "s = 0\n",
    "for a in results['f1']:\n",
    "    s += a\n",
    "print(s / 2)"
   ]
  },
  {
   "cell_type": "markdown",
   "id": "1c4ad5f9",
   "metadata": {},
   "source": [
    "## Jeffrey's transcript"
   ]
  },
  {
   "cell_type": "code",
   "execution_count": 17,
   "id": "896c8783",
   "metadata": {},
   "outputs": [
    {
     "name": "stdout",
     "output_type": "stream",
     "text": [
      "[0.9953322410583496, 0.9507550001144409, 0.9999998807907104]\n",
      "0.9820290406545004\n"
     ]
    }
   ],
   "source": [
    "predictions = [\"Jeffrey Feng will go to the advanced Cloud computing office hours and ask the TA for help.\",\n",
    "               \"Vincent will keep working on his capstone project.\",\n",
    "               \"Yooni Choi will finish her spark assignment for the cloud assignment before Friday.\"]\n",
    "\n",
    "references = [\"Jeffrey Feng will go to the advanced cloud computing office hours and ask the TA for help.\",\n",
    "             \"Vincent will keep working on that capstone.\",\n",
    "             \"Yooni Choi will finish her spark assignment for the cloud assignment before Friday.\"]\n",
    "results = bertscore.compute(predictions=predictions, references=references, lang=\"en\")\n",
    "\n",
    "print(results['f1'])\n",
    "s = 0\n",
    "for a in results['f1']:\n",
    "    s += a\n",
    "print(s / 3)"
   ]
  },
  {
   "cell_type": "code",
   "execution_count": 18,
   "id": "cc52e2d3",
   "metadata": {},
   "outputs": [
    {
     "name": "stdout",
     "output_type": "stream",
     "text": [
      "[0.986504077911377, 0.9769971966743469, 0.976364016532898, 1.0, 0.9840705990791321, 0.9253976941108704, 0.9603763818740845, 0.9434903264045715]\n",
      "0.96915003657341\n"
     ]
    }
   ],
   "source": [
    "references = [\"Jeffrey Feng will read the Selenium documentation.\",\n",
    "               \"Jeffrey Feng will help Yooni with the installation issues.\",\n",
    "               \"Yooni Choi will update her python environment.'\",\n",
    "               \"Yooni Choi will read Beautiful Soup's documentation.\",\n",
    "               \"Jeffrey Feng will create a new GitHub branch.\",\n",
    "               \"Jeffrey and Yooni's will report progress to Dazhi tomorrow.\",\n",
    "               \"Jeffrey Feng will schedule a meeting with Yooni.\",\n",
    "               \"Vincent will add a new member to the team to help this project.\"]\n",
    "\n",
    "predictions = [\"Jeffrey Feng will read Selenium's documentation.\",\n",
    "             \"Jeffrey Feng will help Yooni Choi with installation issues.\",\n",
    "             \"Yooni Choi will update her Python environment.\",\n",
    "             \"Yooni Choi will read Beautiful Soup's documentation.\",\n",
    "              \"Jeffrey Feng will create a Github branch.\",\n",
    "              \"Jeffrey Feng and Yooni Choi will report progress to Vincent tomorrow.\",\n",
    "              \"Jeffrey Feng will schedule a meeting with Yooni Choi to explain his previous code.\",\n",
    "              \"Vincent will add a new member to the team and send updates.\"]\n",
    "results = bertscore.compute(predictions=predictions, references=references, lang=\"en\")\n",
    "\n",
    "print(results['f1'])\n",
    "s = 0\n",
    "for a in results['f1']:\n",
    "    s += a\n",
    "print(s / 8)"
   ]
  },
  {
   "cell_type": "code",
   "execution_count": null,
   "id": "b0e8a0e2",
   "metadata": {},
   "outputs": [],
   "source": []
  }
 ],
 "metadata": {
  "kernelspec": {
   "display_name": "Python 3 (ipykernel)",
   "language": "python",
   "name": "python3"
  },
  "language_info": {
   "codemirror_mode": {
    "name": "ipython",
    "version": 3
   },
   "file_extension": ".py",
   "mimetype": "text/x-python",
   "name": "python",
   "nbconvert_exporter": "python",
   "pygments_lexer": "ipython3",
   "version": "3.11.0"
  }
 },
 "nbformat": 4,
 "nbformat_minor": 5
}
