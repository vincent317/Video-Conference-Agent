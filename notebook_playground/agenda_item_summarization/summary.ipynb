{
 "cells": [
  {
   "cell_type": "code",
   "execution_count": 1,
   "id": "0866efc3",
   "metadata": {},
   "outputs": [],
   "source": [
    "import os\n",
    "import requests\n",
    "import openai\n",
    "import webvtt\n",
    "from langchain.text_splitter import CharacterTextSplitter\n",
    "from langchain.text_splitter import RecursiveCharacterTextSplitter\n",
    "from langchain.docstore.document import Document\n",
    "from langchain.vectorstores.faiss import FAISS\n",
    "from langchain.embeddings.openai import OpenAIEmbeddings\n",
    "from langchain.chains.question_answering import load_qa_chain\n",
    "\n",
    "from langchain.document_loaders import TextLoader"
   ]
  },
  {
   "cell_type": "markdown",
   "id": "e3ea9420",
   "metadata": {},
   "source": [
    "Load agenda items and transcript"
   ]
  },
  {
   "cell_type": "code",
   "execution_count": 2,
   "id": "029b7998",
   "metadata": {},
   "outputs": [],
   "source": [
    "transcript_dir = \"example_22min_transcript.txt\"\n",
    "agenda_dir = \"example_22min_agenda.txt\"\n",
    "\n",
    "with open(transcript_dir, \"r\") as file:\n",
    "    transcript_text = file.read()\n",
    "    \n",
    "with open(agenda_dir, \"r\") as file:\n",
    "    agenda_text = file.read()"
   ]
  },
  {
   "cell_type": "code",
   "execution_count": 4,
   "id": "80d204c3",
   "metadata": {},
   "outputs": [
    {
     "data": {
      "text/plain": [
       "'Duke and Duchess of Sussex asked to vacate UK home Frogmore Cottage.\\nAlex Muradugh guilty.\\nData Centers Intro/definition and origins/size, density and efficiency growth.'"
      ]
     },
     "execution_count": 4,
     "metadata": {},
     "output_type": "execute_result"
    }
   ],
   "source": [
    "agenda_text"
   ]
  },
  {
   "cell_type": "markdown",
   "id": "da6ba3e2",
   "metadata": {},
   "source": [
    "Using langchain to break our meeting transcript into chunks and call OpenAI's API."
   ]
  },
  {
   "cell_type": "code",
   "execution_count": 6,
   "id": "550b3af6",
   "metadata": {},
   "outputs": [],
   "source": [
    "API_KEY = os.environ['OPENAI_API_KEY']"
   ]
  },
  {
   "cell_type": "code",
   "execution_count": 21,
   "id": "748f1a5a",
   "metadata": {},
   "outputs": [],
   "source": [
    "from langchain.chat_models import ChatOpenAI\n",
    "llm = ChatOpenAI(model_name=\"gpt-3.5-turbo-0301\", openai_api_key=API_KEY)\n",
    "\n",
    "source_chunks = []\n",
    "splitter = RecursiveCharacterTextSplitter()\n",
    "for chunk in splitter.split_text(transcript_text):\n",
    "    source_chunks.append(Document(page_content=chunk))\n",
    "search_index = FAISS.from_documents(source_chunks, OpenAIEmbeddings(openai_api_key = API_KEY))\n",
    "\n",
    "chain = load_qa_chain(llm)\n",
    "\n",
    "def return_llm_answer(question):\n",
    "    return(\n",
    "        chain(\n",
    "            {\n",
    "                \"input_documents\": search_index.similarity_search(question, k=4),\n",
    "                \"question\": question,\n",
    "            },\n",
    "            return_only_outputs=True,\n",
    "        )[\"output_text\"]\n",
    "    )"
   ]
  },
  {
   "cell_type": "code",
   "execution_count": 32,
   "id": "2ba696a4",
   "metadata": {},
   "outputs": [],
   "source": [
    "overall_summary = return_llm_answer(\"Provide a summary of the meeting.\")"
   ]
  },
  {
   "cell_type": "code",
   "execution_count": 33,
   "id": "fb1fc8cc",
   "metadata": {},
   "outputs": [
    {
     "data": {
      "text/plain": [
       "\"The meeting started with everyone discussing how their week went, and Jiahe Feng mentioned being busy with midterms and excited for spring break. They then discussed the news of the Duke and Duchess of Sussex being asked to vacate Frogmore College, a royal residence gifted to them by Queen Elizabeth II, and the controversy over the cost of renovation. \\n\\nThey also discussed the guilty verdict of lawyer Alex Murdaugh for the murder of his wife and son, as well as his embezzlement of clients' funds. The group agreed to prepare a summary of his charges and verdicts for the next meeting. \\n\\nThey then discussed data centers, their modular design, and their role in cloud computing, as well as the historical evolution of equipment racks. The group agreed to watch a show on data centers and share their thoughts at the next meeting. Overall, the meeting covered a range of topics, from current events and legal issues to technical discussions on data centers.\""
      ]
     },
     "execution_count": 33,
     "metadata": {},
     "output_type": "execute_result"
    }
   ],
   "source": [
    "overall_summary"
   ]
  },
  {
   "cell_type": "code",
   "execution_count": 36,
   "id": "20e8acfa",
   "metadata": {},
   "outputs": [],
   "source": [
    "agenda_summaries = []\n",
    "for agenda in agenda_text.split(\"\\n\"):\n",
    "    agenda_summaries.append(return_llm_answer(\"From this meeting, provide a summary related to this agenda item\" + agenda))"
   ]
  },
  {
   "cell_type": "code",
   "execution_count": 35,
   "id": "dfa97575",
   "metadata": {},
   "outputs": [
    {
     "data": {
      "text/plain": [
       "[\"During the meeting, it was discussed that the Duke and Duchess of Sussex had been asked to leave their official UK residence, Frogmore Cottage. The property, gifted to them by the late Queen Elizabeth II, is owned by the Crown Estate and is located in Windsor's estate west of London. The couple had refurbished the cottage and made it their UK base, but it was later revealed that around $3 million of British taxpayers' money had been used for the renovation. Following their move to California, they paid back the public money. The news was reportedly confirmed by a spokesman for the couple, and Buckingham Palace declined to comment on the matter. It was noted that any discussions related to the matter would be a private family matter.\",\n",
       " \"During the meeting, the topic of discussion was Alex Murdaugh, a first-generation lawyer from South Carolina who was recently convicted of killing his wife and son. The discussion was initiated with a request for a summary of Murdaugh's charges and verdicts, to which it was decided to have it ready within a week. The discussion then moved on to the trial, which was described as the reckoning of a man who lived a secret life in which he stole millions of dollars from clients and colleagues, in addition to embezzling funds from his law firm.\\n\\nThe prosecution argued that Murdaugh committed the killings to gain sympathy and to keep his long-time embezzlement from being exposed. Initially, Murdaugh's scheme worked, but the increasing attention on his finances was causing him to fear the walls closing in. He had been confronted by his law firm's financial chief, who accused him of pocketing a six-figure check that he was supposed to pass along to the law firm. Another lawyer had sued Murdaugh over his son's involvement in a drunken boat crash in 2019 that resulted in the death of a 19-year-old woman.\\n\\nSeveral months after the murders, some errors in his finances were flagged, leading to the discovery of his embezzlement scheme. The next day, Murdaugh reported that he had been shot in the head on the side of a rural Rd, which turned out to be an attempt to frame his death as a murder so that his surviving son could collect on his insurance policy. During the trial, Murdaugh's extensive lies were highlighted, and his lawyers argued that the police investigation was sloppily done and focused almost entirely on Murdaugh.\\n\\nMurdaugh had made the risky decision to take the witness stand in his defense last week, claiming he lied to the police because he feared he would become a suspect if he acknowledged being at the crime scene. The trial hammered on his previous deceptions, and the prosecution urged jurors to avoid becoming the next one to believe his life. The discussion concluded with a note on the tragedy of a man from such a well-established family putting blood on his head.\",\n",
       " 'The meeting covered various topics related to data centers, including their introduction and definition as a location for concentrated IT equipment and facilities to securely cause power and the code equipment. The evolution of data centers from a location of concentrated IT equipment to modular, agile, and highly virtualized compute standards with green use of web-based services was discussed, which led to dramatic decreases in operational usage costs and carbon footprint. It was mentioned that data center design requirements depend on its size and use.\\n\\nThe role of cloud computing in increasing the growth of data centers and providing cost-effectiveness was discussed. The importance of understanding the physical resources that make up the cloud was emphasized, as this could help in effective use of cloud resources and development of large-scale dynamic applications for the cloud.\\n\\nThe origin of the term data center was traced back to the 1990s when large rooms dedicated to housing computing and networking equipment were first used. The importance of modularity in data centers was explained, which allows an organization to expand as needed. The standardization of racks that IT equipment is mounted on was also discussed as an enabler of a modular data center.\\n\\nThe growth in density and efficiency of data centers over the years was also highlighted. While the power efficiency of individual components has improved over the years, computers themselves have become more dense, packing more processing cores, memory, and storage per square foot, leading to a dramatic increase in overall power consumption per rack over the last few years. The meeting ended with a discussion of the Duke and Duchess of Sussex vacating Frogmore College.']"
      ]
     },
     "execution_count": 35,
     "metadata": {},
     "output_type": "execute_result"
    }
   ],
   "source": [
    "agenda_summaries"
   ]
  },
  {
   "cell_type": "code",
   "execution_count": 39,
   "id": "8d03436a",
   "metadata": {},
   "outputs": [
    {
     "data": {
      "text/plain": [
       "'Duke and Duchess of Sussex asked to vacate UK home Frogmore Cottage.\\nAlex Muradugh guilty.\\nData Centers Intro/definition and origins/size, density and efficiency growth.'"
      ]
     },
     "execution_count": 39,
     "metadata": {},
     "output_type": "execute_result"
    }
   ],
   "source": [
    "agenda_text"
   ]
  },
  {
   "cell_type": "code",
   "execution_count": 40,
   "id": "69cfe3a5",
   "metadata": {},
   "outputs": [
    {
     "data": {
      "text/plain": [
       "'There is no additional context provided beyond these agenda items to include in a summary.'"
      ]
     },
     "execution_count": 40,
     "metadata": {},
     "output_type": "execute_result"
    }
   ],
   "source": [
    "return_llm_answer(\"Provide detailed summary that is not included from these agenda items:\" + agenda_text)"
   ]
  },
  {
   "cell_type": "code",
   "execution_count": null,
   "id": "d2a43757",
   "metadata": {},
   "outputs": [],
   "source": []
  }
 ],
 "metadata": {
  "kernelspec": {
   "display_name": "Python 3 (ipykernel)",
   "language": "python",
   "name": "python3"
  },
  "language_info": {
   "codemirror_mode": {
    "name": "ipython",
    "version": 3
   },
   "file_extension": ".py",
   "mimetype": "text/x-python",
   "name": "python",
   "nbconvert_exporter": "python",
   "pygments_lexer": "ipython3",
   "version": "3.9.12"
  }
 },
 "nbformat": 4,
 "nbformat_minor": 5
}
