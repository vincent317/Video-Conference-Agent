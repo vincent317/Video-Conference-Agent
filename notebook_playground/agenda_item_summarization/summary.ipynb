{
 "cells": [
  {
   "cell_type": "code",
   "execution_count": 6,
   "id": "0866efc3",
   "metadata": {},
   "outputs": [],
   "source": [
    "import os\n",
    "import requests\n",
    "import openai\n",
    "import webvtt\n",
    "from langchain.text_splitter import CharacterTextSplitter\n",
    "from langchain.text_splitter import RecursiveCharacterTextSplitter\n",
    "from langchain.docstore.document import Document\n",
    "from langchain.vectorstores.faiss import FAISS\n",
    "from langchain.embeddings.openai import OpenAIEmbeddings\n",
    "from langchain.chains.question_answering import load_qa_chain\n",
    "from langchain.chat_models import ChatOpenAI\n",
    "from langchain.document_loaders import TextLoader\n",
    "from dotenv import load_dotenv\n",
    "API_KEY = os.environ['OPENAI_API_KEY']"
   ]
  },
  {
   "cell_type": "markdown",
   "id": "e3ea9420",
   "metadata": {},
   "source": [
    "Load agenda items and transcript"
   ]
  },
  {
   "cell_type": "code",
   "execution_count": 7,
   "id": "029b7998",
   "metadata": {},
   "outputs": [],
   "source": [
    "transcript_dir = \"example_22min_transcript.txt\"\n",
    "agenda_dir = \"example_22min_agenda.txt\"\n",
    "\n",
    "with open(transcript_dir, \"r\") as file:\n",
    "    transcript_text = file.read()\n",
    "    \n",
    "with open(agenda_dir, \"r\") as file:\n",
    "    agenda_text = file.read()"
   ]
  },
  {
   "cell_type": "code",
   "execution_count": 8,
   "id": "80d204c3",
   "metadata": {},
   "outputs": [
    {
     "data": {
      "text/plain": [
       "'Duke and Duchess of Sussex asked to vacate UK home Frogmore Cottage.\\nAlex Muradugh guilty.\\nData Centers Intro/definition and origins/size, density and efficiency growth.'"
      ]
     },
     "execution_count": 8,
     "metadata": {},
     "output_type": "execute_result"
    }
   ],
   "source": [
    "agenda_text"
   ]
  },
  {
   "cell_type": "markdown",
   "id": "da6ba3e2",
   "metadata": {},
   "source": [
    "Using langchain to break our meeting transcript into chunks and call OpenAI's API."
   ]
  },
  {
   "cell_type": "code",
   "execution_count": 9,
   "id": "748f1a5a",
   "metadata": {},
   "outputs": [],
   "source": [
    "def return_llm_answer(question, chain, search_index):\n",
    "    \"\"\"Returns an answer to a given question using a language model.\"\"\"\n",
    "    return chain({'input_documents': search_index.similarity_search(question,\n",
    "                 k=4), 'question': question},\n",
    "                 return_only_outputs=True)['output_text']\n",
    "\n",
    "\n",
    "def generate_summaries(agenda_text, transcript_text):\n",
    "    \"\"\"\n",
    "    Generates meeting summaries using a language model and a similarity search index.\n",
    "\n",
    "    Args:\n",
    "    agenda_text (str): A string containing the agenda items discussed in the meeting.\n",
    "    transcript_text (str): A string containing the full transcript of the meeting.\n",
    "\n",
    "    Returns:\n",
    "    tuple: A tuple containing three strings - the overall summary of the meeting, a dictionary of agenda item summaries, and\n",
    "    a summary of topics not covered by the agenda items.\n",
    "\n",
    "    This function generates meeting summaries by first splitting the transcript text into smaller chunks using a recursive\n",
    "    character text splitter. The chunks are then converted into documents, which are used to create a search index for\n",
    "    performing similarity searches. The function also loads a language model using the ChatOpenAI class and a QA chain using\n",
    "    the load_qa_chain method.\n",
    "\n",
    "    The function then uses the language model to generate an overall summary of the meeting by asking a pre-defined\n",
    "    question. Next, it generates summaries for each agenda item by asking a question related to that item. Finally, it\n",
    "    generates a summary of topics not covered by the agenda items by asking a general question.\n",
    "\n",
    "    The function returns a tuple containing the three summaries as strings.\n",
    "    \"\"\"\n",
    "    \n",
    "    llm = ChatOpenAI(model_name='gpt-3.5-turbo-0301',\n",
    "                     openai_api_key=API_KEY)\n",
    "\n",
    "    source_chunks = []\n",
    "    splitter = RecursiveCharacterTextSplitter()\n",
    "    for chunk in splitter.split_text(transcript_text):\n",
    "        source_chunks.append(Document(page_content=chunk))\n",
    "    search_index = FAISS.from_documents(source_chunks,\n",
    "            OpenAIEmbeddings(openai_api_key=API_KEY))\n",
    "\n",
    "    chain = load_qa_chain(llm)\n",
    "\n",
    "    # get overall summary of the meeting\n",
    "\n",
    "    overall_summary = \\\n",
    "        return_llm_answer('Provide a summary of the meeting.', chain, search_index)\n",
    "\n",
    "    # get a dictionary of agenda item summaries\n",
    "\n",
    "    agenda_summaries = {}\n",
    "    for agenda in agenda_text.split('\\n'):\n",
    "        agenda_summaries[agenda] = \\\n",
    "            return_llm_answer('From this meeting, provide a summary related to this agenda item: '\n",
    "                               + agenda, chain, search_index)\n",
    "\n",
    "    # get summary not coverred by the agenda items\n",
    "\n",
    "    num_agenda = len(agenda_summaries)\n",
    "    additional_summaries = \\\n",
    "        return_llm_answer(\n",
    "            f\"Provide additional information if there are any additional items that were not mentioned\" + \n",
    "            f\"in the following {num_agenda} agenda items: {agenda_text}\", chain, search_index\n",
    "        )\n",
    "\n",
    "    return (overall_summary, agenda_summaries, additional_summaries)\n"
   ]
  },
  {
   "cell_type": "code",
   "execution_count": 8,
   "id": "d2a43757",
   "metadata": {},
   "outputs": [
    {
     "data": {
      "text/plain": [
       "(\"The meeting started with a discussion of everyone's week, with Jiahe Feng mentioning having three midterms and being excited for spring break. They then moved on to discussing the Duke and Duchess of Sussex being asked to vacate their residence at Frogmore College. They also discussed a lawyer being convicted of murdering his wife and son, and the trends and design considerations in data centers. There were also requests for work on charges and verdicts of the case, watching a show, and doing legal questions for job hunting. A summary diagram of lab racks design was also requested.\",\n",
       " {'Duke and Duchess of Sussex asked to vacate UK home Frogmore Cottage.': 'The Duke and Duchess of Sussex have been asked to vacate their UK residence, Frogmore Cottage, which was gifted to them by Queen Elizabeth II. The property is owned by the Crown Estate and has since been offered to Prince Andrew. The renovation of the property had sparked controversy as $3 million of British taxpayers money was used, which the couple has since paid back after their relocation to California. The couple now resides in the United States but had retained the UK property as a base. The reason behind the request to vacate the property is currently unknown, and any discussions around it are considered a private family matter.',\n",
       "  'Alex Muradugh guilty.': 'Alex Murdaugh, a first-generation lawyer from a prominent family in South Carolina, was found guilty of murdering his wife and son. He was also convicted of stealing millions of dollars from clients and colleagues and lying to cover up his financial misdeeds. During the trial, prosecutors presented evidence that showed Murdaugh had killed his wife and son with a shotgun and rifle, then quickly set about creating an alibi. His lawyers argued that the police had focused too much on Murdaugh and overlooked other possible suspects, but the jury ultimately rejected his claims of innocence. Murdaugh faces a minimum sentence of 30 years in prison, with prosecutors seeking life in prison without parole.',\n",
       "  'Data Centers Intro/definition and origins/size, density and efficiency growth.': 'The meeting covers the topic of data centers and their evolution over time, from concentrated IT equipment to modular, highly virtualized compute standards. Data center design requirements depend on size and use, with cloud computing being a major contributor to growth. The density of data centers has caused an increase in power and cooling requirements, with larger data centers consuming several megawatts of power. The origins of computer rooms date back to early computers that required special rooms for refrigeration and reliability, and today standardized racks are used to mount IT equipment. Advances in CPU design and printed circuit board design have allowed for greater density and efficiency, but individual components still need to be managed for cost efficiency at scale.'},\n",
       " 'There is no additional information provided beyond what is mentioned in the three agenda items.')"
      ]
     },
     "execution_count": 8,
     "metadata": {},
     "output_type": "execute_result"
    }
   ],
   "source": [
    "generate_summaries(agenda_text, transcript_text)"
   ]
  },
  {
   "cell_type": "code",
   "execution_count": null,
   "id": "1ffa6704",
   "metadata": {},
   "outputs": [],
   "source": []
  }
 ],
 "metadata": {
  "kernelspec": {
   "display_name": "Python 3 (ipykernel)",
   "language": "python",
   "name": "python3"
  },
  "language_info": {
   "codemirror_mode": {
    "name": "ipython",
    "version": 3
   },
   "file_extension": ".py",
   "mimetype": "text/x-python",
   "name": "python",
   "nbconvert_exporter": "python",
   "pygments_lexer": "ipython3",
   "version": "3.9.12"
  }
 },
 "nbformat": 4,
 "nbformat_minor": 5
}
