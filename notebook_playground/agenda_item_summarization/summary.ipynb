{
 "cells": [
  {
   "cell_type": "code",
   "execution_count": 41,
   "id": "0866efc3",
   "metadata": {},
   "outputs": [],
   "source": [
    "import os\n",
    "import requests\n",
    "import openai\n",
    "import webvtt\n",
    "from langchain.text_splitter import CharacterTextSplitter\n",
    "from langchain.text_splitter import RecursiveCharacterTextSplitter\n",
    "from langchain.docstore.document import Document\n",
    "from langchain.vectorstores.faiss import FAISS\n",
    "from langchain.embeddings.openai import OpenAIEmbeddings\n",
    "from langchain.chains.question_answering import load_qa_chain\n",
    "from langchain.chat_models import ChatOpenAI\n",
    "from langchain.document_loaders import TextLoader\n",
    "API_KEY = os.environ['OPENAI_API_KEY']"
   ]
  },
  {
   "cell_type": "markdown",
   "id": "e3ea9420",
   "metadata": {},
   "source": [
    "Load agenda items and transcript"
   ]
  },
  {
   "cell_type": "code",
   "execution_count": 2,
   "id": "029b7998",
   "metadata": {},
   "outputs": [],
   "source": [
    "transcript_dir = \"example_22min_transcript.txt\"\n",
    "agenda_dir = \"example_22min_agenda.txt\"\n",
    "\n",
    "with open(transcript_dir, \"r\") as file:\n",
    "    transcript_text = file.read()\n",
    "    \n",
    "with open(agenda_dir, \"r\") as file:\n",
    "    agenda_text = file.read()"
   ]
  },
  {
   "cell_type": "code",
   "execution_count": 4,
   "id": "80d204c3",
   "metadata": {},
   "outputs": [
    {
     "data": {
      "text/plain": [
       "'Duke and Duchess of Sussex asked to vacate UK home Frogmore Cottage.\\nAlex Muradugh guilty.\\nData Centers Intro/definition and origins/size, density and efficiency growth.'"
      ]
     },
     "execution_count": 4,
     "metadata": {},
     "output_type": "execute_result"
    }
   ],
   "source": [
    "agenda_text"
   ]
  },
  {
   "cell_type": "markdown",
   "id": "da6ba3e2",
   "metadata": {},
   "source": [
    "Using langchain to break our meeting transcript into chunks and call OpenAI's API."
   ]
  },
  {
   "cell_type": "code",
   "execution_count": 65,
   "id": "748f1a5a",
   "metadata": {},
   "outputs": [],
   "source": [
    "def return_llm_answer(question):\n",
    "    \"\"\"Returns an answer to a given question using a language model.\"\"\"\n",
    "    return chain({'input_documents': search_index.similarity_search(question,\n",
    "                 k=4), 'question': question},\n",
    "                 return_only_outputs=True)['output_text']\n",
    "\n",
    "\n",
    "def generate_summaries(agenda_text, transcript_text):\n",
    "    \"\"\"\n",
    "    Generates meeting summaries using a language model and a similarity search index.\n",
    "\n",
    "    Args:\n",
    "    agenda_text (str): A string containing the agenda items discussed in the meeting.\n",
    "    transcript_text (str): A string containing the full transcript of the meeting.\n",
    "\n",
    "    Returns:\n",
    "    tuple: A tuple containing three strings - the overall summary of the meeting, a dictionary of agenda item summaries, and\n",
    "    a summary of topics not covered by the agenda items.\n",
    "\n",
    "    This function generates meeting summaries by first splitting the transcript text into smaller chunks using a recursive\n",
    "    character text splitter. The chunks are then converted into documents, which are used to create a search index for\n",
    "    performing similarity searches. The function also loads a language model using the ChatOpenAI class and a QA chain using\n",
    "    the load_qa_chain method.\n",
    "\n",
    "    The function then uses the language model to generate an overall summary of the meeting by asking a pre-defined\n",
    "    question. Next, it generates summaries for each agenda item by asking a question related to that item. Finally, it\n",
    "    generates a summary of topics not covered by the agenda items by asking a general question.\n",
    "\n",
    "    The function returns a tuple containing the three summaries as strings.\n",
    "    \"\"\"\n",
    "    \n",
    "    llm = ChatOpenAI(model_name='gpt-3.5-turbo-0301',\n",
    "                     openai_api_key=API_KEY)\n",
    "\n",
    "    source_chunks = []\n",
    "    splitter = RecursiveCharacterTextSplitter()\n",
    "    for chunk in splitter.split_text(transcript_text):\n",
    "        source_chunks.append(Document(page_content=chunk))\n",
    "    search_index = FAISS.from_documents(source_chunks,\n",
    "            OpenAIEmbeddings(openai_api_key=API_KEY))\n",
    "\n",
    "    chain = load_qa_chain(llm)\n",
    "\n",
    "    # get overall summary of the meeting\n",
    "\n",
    "    overall_summary = \\\n",
    "        return_llm_answer('Provide a summary of the meeting.')\n",
    "\n",
    "    # get a dictionary of agenda item summaries\n",
    "\n",
    "    agenda_summaries = {}\n",
    "    for agenda in agenda_text.split('\\n'):\n",
    "        agenda_summaries[agenda] = \\\n",
    "            return_llm_answer('From this meeting, provide a summary related to this agenda item: '\n",
    "                               + agenda)\n",
    "\n",
    "    # get summary not coverred by the agenda items\n",
    "\n",
    "    additional_summaries = \\\n",
    "        return_llm_answer(\n",
    "            f\"Provide additional information if there are any additional items that were not mentioned\" + \n",
    "            f\"in the following {num_agenda} agenda items: {agenda_text}\"\n",
    "        )\n",
    "\n",
    "    return (overall_summary, agenda_summaries, additional_summaries)\n"
   ]
  },
  {
   "cell_type": "code",
   "execution_count": 66,
   "id": "d2a43757",
   "metadata": {},
   "outputs": [
    {
     "data": {
      "text/plain": [
       "('The meeting covered various topics, including personal updates from members, news about the eviction of the Duke and Duchess of Sussex from Frogmore College, a discussion on the trial and guilty verdict of lawyer Alex Murdaugh, and a presentation on data centers. The members also discussed assignments they needed to complete before the next meeting, such as watching a show and completing legal questions. There was also a request for a lab rack design diagram.',\n",
       " {'Duke and Duchess of Sussex asked to vacate UK home Frogmore Cottage.': \"During the meeting, it was discussed that the Duke and Duchess of Sussex have been asked to vacate their residence at Frogmore Cottage, which was their official UK residence. The property had been gifted to them by the late Queen Elizabeth II as a UK base, and they had moved in shortly before the arrival of their son Archie in May 2019. However, it was revealed that around $3 million of British taxpayers' money had been used for college refurbishments, which sparked controversy. The couple has since paid back the public money following their relocation to California. It was said that the couple now resides in the United States. The group discussed the latest news and controversies surrounding the royal family, including the recent memoir and documentary released by the Duke and Duchess of Sussex.\",\n",
       "  'Alex Muradugh guilty.': 'During the meeting, it was discussed that Alex Murdaugh, the first-generation lawyer, has been found guilty of murdering his wife and son at their family estate in South Carolina. This came following a nearly six-week-long trial, more than 20 months after the fatal shooting occurred. Mr. Murdaugh was also convicted of stealing millions of dollars from clients and colleagues and lying to many of those closest to him. His lawyers argued that the police was sloppy in their investigation and had focused almost exclusively on him instead of looking for other suspects. However, the jury rejected his claim that he had left the dog kennels where the crimes occurred several minutes before the shootings. He now faces a minimum sentence of 30 years in prison and possibly life without parole.',\n",
       "  'Data Centers Intro/definition and origins/size, density and efficiency growth.': 'In this meeting, the participants discussed the introduction and definition of data centers, their origins and evolution over time, and how their size, density, and efficiency have grown significantly. They also mentioned the different types of data centers, including cloud computing ones, and the importance of understanding the underlying infrastructure to better program and debug cloud-based applications. Additionally, they highlighted the modular design of data centers and the use of standardized racks to mount IT equipment, which improved their scalability and ease of installation and maintenance. Finally, they mentioned the power consumption and cooling requirements of data centers and how they have increased as the overall power density per rack has risen.'},\n",
       " 'No additional items were mentioned in the given context for the three mentioned agenda items.')"
      ]
     },
     "execution_count": 66,
     "metadata": {},
     "output_type": "execute_result"
    }
   ],
   "source": [
    "generate_summaries(agenda_text, transcript_text)"
   ]
  },
  {
   "cell_type": "code",
   "execution_count": null,
   "id": "1ffa6704",
   "metadata": {},
   "outputs": [],
   "source": []
  }
 ],
 "metadata": {
  "kernelspec": {
   "display_name": "Python 3 (ipykernel)",
   "language": "python",
   "name": "python3"
  },
  "language_info": {
   "codemirror_mode": {
    "name": "ipython",
    "version": 3
   },
   "file_extension": ".py",
   "mimetype": "text/x-python",
   "name": "python",
   "nbconvert_exporter": "python",
   "pygments_lexer": "ipython3",
   "version": "3.9.12"
  }
 },
 "nbformat": 4,
 "nbformat_minor": 5
}
