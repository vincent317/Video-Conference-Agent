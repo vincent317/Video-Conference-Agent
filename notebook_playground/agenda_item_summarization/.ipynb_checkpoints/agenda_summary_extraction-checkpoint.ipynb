{
 "cells": [
  {
   "cell_type": "code",
   "execution_count": 3,
   "id": "0866efc3",
   "metadata": {},
   "outputs": [],
   "source": [
    "import os\n",
    "import requests\n",
    "import openai\n",
    "import webvtt\n",
    "from langchain.text_splitter import CharacterTextSplitter\n",
    "from langchain.text_splitter import RecursiveCharacterTextSplitter\n",
    "from langchain.docstore.document import Document\n",
    "from langchain.vectorstores.faiss import FAISS\n",
    "from langchain.embeddings.openai import OpenAIEmbeddings\n",
    "from langchain.chains.question_answering import load_qa_chain\n",
    "from langchain.chat_models import ChatOpenAI\n",
    "from langchain.document_loaders import TextLoader\n",
    "from dotenv import load_dotenv\n",
    "API_KEY = os.environ['OPENAI_API_KEY']"
   ]
  },
  {
   "cell_type": "code",
   "execution_count": null,
   "id": "507f9b8c",
   "metadata": {},
   "outputs": [],
   "source": []
  },
  {
   "cell_type": "markdown",
   "id": "e3ea9420",
   "metadata": {},
   "source": [
    "Load agenda items and transcript"
   ]
  },
  {
   "cell_type": "code",
   "execution_count": 7,
   "id": "029b7998",
   "metadata": {},
   "outputs": [],
   "source": [
    "transcript_dir = \"example_22min_transcript.txt\"\n",
    "agenda_dir = \"example_22min_agenda.txt\"\n",
    "\n",
    "with open(transcript_dir, \"r\") as file:\n",
    "    transcript_text = file.read()\n",
    "    \n",
    "with open(agenda_dir, \"r\") as file:\n",
    "    agenda_text = file.read()"
   ]
  },
  {
   "cell_type": "code",
   "execution_count": 8,
   "id": "80d204c3",
   "metadata": {},
   "outputs": [
    {
     "data": {
      "text/plain": [
       "'Duke and Duchess of Sussex asked to vacate UK home Frogmore Cottage.\\nAlex Muradugh guilty.\\nData Centers Intro/definition and origins/size, density and efficiency growth.'"
      ]
     },
     "execution_count": 8,
     "metadata": {},
     "output_type": "execute_result"
    }
   ],
   "source": [
    "agenda_text"
   ]
  },
  {
   "cell_type": "markdown",
   "id": "da6ba3e2",
   "metadata": {},
   "source": [
    "Using langchain to break our meeting transcript into chunks and call OpenAI's API."
   ]
  },
  {
   "cell_type": "code",
   "execution_count": 26,
   "id": "748f1a5a",
   "metadata": {},
   "outputs": [],
   "source": [
    "def return_llm_answer(question, chain, search_index):\n",
    "    \"\"\"Returns an answer to a given question using a language model.\"\"\"\n",
    "    return chain({'input_documents': search_index.similarity_search(question,\n",
    "                 k=4), 'question': question},\n",
    "                 return_only_outputs=True)['output_text']\n",
    "\n",
    "\n",
    "def generate_summaries(agenda_text, transcript_text):\n",
    "    \"\"\"\n",
    "    Generates meeting summaries using a language model and a similarity search index.\n",
    "\n",
    "    Args:\n",
    "    agenda_text (str): A string containing the agenda items discussed in the meeting.\n",
    "    transcript_text (str): A string containing the full transcript of the meeting.\n",
    "\n",
    "    Returns:\n",
    "    tuple: A tuple containing three strings - the overall summary of the meeting, a dictionary of agenda item summaries, and\n",
    "    a summary of topics not covered by the agenda items.\n",
    "\n",
    "    This function generates meeting summaries by first splitting the transcript text into smaller chunks using a recursive\n",
    "    character text splitter. The chunks are then converted into documents, which are used to create a search index for\n",
    "    performing similarity searches. The function also loads a language model using the ChatOpenAI class and a QA chain using\n",
    "    the load_qa_chain method.\n",
    "\n",
    "    The function then uses the language model to generate an overall summary of the meeting by asking a pre-defined\n",
    "    question. Next, it generates summaries for each agenda item by asking a question related to that item. Finally, it\n",
    "    generates a summary of topics not covered by the agenda items by asking a general question.\n",
    "\n",
    "    The function returns a tuple containing the three summaries as strings.\n",
    "    \"\"\"\n",
    "    \n",
    "    llm = ChatOpenAI(model_name='gpt-3.5-turbo-0301',\n",
    "                     openai_api_key=API_KEY)\n",
    "\n",
    "    source_chunks = []\n",
    "    splitter = RecursiveCharacterTextSplitter()\n",
    "    for chunk in splitter.split_text(transcript_text):\n",
    "        source_chunks.append(Document(page_content=chunk))\n",
    "    search_index = FAISS.from_documents(source_chunks,\n",
    "            OpenAIEmbeddings(openai_api_key=API_KEY))\n",
    "\n",
    "    chain = load_qa_chain(llm)\n",
    "\n",
    "    # get overall summary of the meeting\n",
    "\n",
    "    overall_summary = \\\n",
    "        return_llm_answer('Provide a summary of the meeting.', chain, search_index)\n",
    "\n",
    "    # get a dictionary of short agenda item summaries\n",
    "    \n",
    "    short_agenda_summaries = {}\n",
    "    long_agenda_summaries = {}\n",
    "\n",
    "    num_agenda = 0\n",
    "\n",
    "    for agenda in agenda_text.split('.'):\n",
    "        if agenda:\n",
    "            num_agenda += 1\n",
    "            summary_text = \\\n",
    "                return_llm_answer('From this meeting, provide a one line short summary and detailed, long summary seperated by a empty line, related to this agenda item: '\n",
    "                                + agenda, chain, search_index)\n",
    "            # parse short / long summaries\n",
    "            summary_text = summary_text.split(\"\\n\\n\")\n",
    "            short_summary = summary_text[0]\n",
    "            long_summary = summary_text[1]\n",
    "            short_agenda_summaries[agenda] = \"\".join(short_summary.split(\":\")[1:]).strip()\n",
    "            long_agenda_summaries[agenda] = \"\".join(long_summary.split(\":\")[1:]).strip()\n",
    "        \n",
    "\n",
    "    # get summary not coverred by the agenda items\n",
    "    additional_summaries = \\\n",
    "        return_llm_answer(\n",
    "            f\"Provide additional information if there are any additional items that were not mentioned\" + \n",
    "            f\"in the following {num_agenda} agenda items: {agenda_text}\", chain, search_index\n",
    "        )\n",
    "        return {\"Overall summary\" : overall_summary, \n",
    "             \"Short agenda summaries\" : short_agenda_summaries,\n",
    "            \"Detailed agenda summaries\": long_agenda_summaries,\n",
    "             \"Additional summaries\" : additional_summaries\n",
    "            }"
   ]
  },
  {
   "cell_type": "code",
   "execution_count": 25,
   "id": "d2a43757",
   "metadata": {},
   "outputs": [
    {
     "data": {
      "text/plain": [
       "{'Overall summary': 'The meeting started with Yooni Choi asking everyone about their week. Jiahe Feng mentioned being busy with midterms and looking forward to spring break. Dazhi Peng mentioned being in Atlanta and wanting to pay his rent. The first agenda item discussed was the Duke and Duchess of Sussex being asked to vacate Frogmore College, their official UK residence. The renovation of the property had sparked controversy after it was revealed that taxpayer money had been used, but they have since paid it back. The second agenda item was about Alex Myrtle being found guilty of murdering his wife and son. The third agenda item was about data centers and their evolution from a location of concentrated IT equipment to modular, agile, and highly virtualized compute standards. The meeting ended with Yooni Choi asking for a diagram of lab racks design and reminding everyone to work on their legal questions and watch the Netflix documentary.',\n",
       " 'Short agenda summaries': {'Duke and Duchess of Sussex asked to vacate UK home Frogmore Cottage.': 'Duke and Duchess of Sussex asked to vacate Frogmore Cottage, their official UK residence.',\n",
       "  'Alex Muradugh guilty.': 'Alex Murdaugh found guilty of murdering his wife and son and stealing millions of dollars from clients and colleagues.',\n",
       "  'Data Centers Intro/definition and origins/size, density and efficiency growth.': 'The meeting discussed the definition and origins of data centers along with their growth in size, density, and efficiency.'},\n",
       " 'Detailed agenda summaries': {'Duke and Duchess of Sussex asked to vacate UK home Frogmore Cottage.': \"During the meeting, it was discussed that the Duke and Duchess of Sussex have been asked to vacate their official UK residence, Frogmore Cottage, which was gifted to them by the late Queen Elizabeth. The property is owned by the Crown Estate, and it had been offered to Prince Andrew, one of King Charles III's brothers, following the couple's departure from the UK. The renovation of Frogmore Cottage had sparked controversy after it was revealed that around $3 million of British taxpayers money had been used for the refurbishments. The couple has since paid back the public money following their relocation to California. The spokesperson for the couple confirmed the news, but Buckingham Palace declined to comment on the matter.\",\n",
       "  'Alex Muradugh guilty.': \"Alex Murdaugh, a lawyer from a well-established family, was convicted of murdering his wife and son and stealing millions of dollars from clients and colleagues. The guilty verdict followed a six-week long trial, more than 20 months after the June 2019 fatal shooting of Mr. Murdaugh's wife Maggie and son Paul. Prosecutors contended that Mr. Murdaugh had killed his son with a shotgun, then gunned down his wife with a rifle, and then quickly sat about creating an alibi by texting and calling his estranged wife and visiting his ailing mother a short drive away. Throughout the trial, Mr. Murdaugh's lawyers argued that the police was sloppy in their investigation and had focused almost exclusively on Mr. Murdaugh, instead of looking for other suspects. However, the jury rejected his claim that he had left the dog kennels where the crimes occurred several minutes before the shootings. The minimum sentence for murder is 30 years in prison, and prosecutors have said they will seek a sentence of life in prison without the possibility of parole.\",\n",
       "  'Data Centers Intro/definition and origins/size, density and efficiency growth.': 'At the meeting, the participants discussed the evolution of data centers from a location of concentrated IT equipment to modular, agile, and highly virtualized compute standards. They also talked about how the advent of the cloud computing paradigm has contributed to the growth of data centers, which are now classified as infrastructure as a service, software as a service, or platform as a service. The meeting also covered the design requirements of data centers, which depend on their size and use, and the importance of modularity, standardized racks, and power efficiency. The participants also discussed how advances in CPU, integrated circuit, and printed circuit board design have led to faster and more powerful computers within the same area, but also increased power and cooling requirements. They also mentioned that a large data center now consumes several megawatts of power, which is roughly the same power requirements of a small town. Overall, the meeting provided a comprehensive introduction to data centers, their origins, and their growth in size, density, and efficiency.'},\n",
       " 'Additional summaries': 'No additional items were mentioned in the conversation beyond these three agenda items.'}"
      ]
     },
     "execution_count": 25,
     "metadata": {},
     "output_type": "execute_result"
    }
   ],
   "source": [
    "generate_summaries(agenda_text, transcript_text)"
   ]
  },
  {
   "cell_type": "code",
   "execution_count": null,
   "id": "2d9f5368",
   "metadata": {},
   "outputs": [],
   "source": []
  },
  {
   "cell_type": "code",
   "execution_count": null,
   "id": "f10a2da0",
   "metadata": {},
   "outputs": [],
   "source": []
  },
  {
   "cell_type": "markdown",
   "id": "2d083d1b",
   "metadata": {},
   "source": [
    "# playground"
   ]
  },
  {
   "cell_type": "code",
   "execution_count": 22,
   "id": "cec75bdc",
   "metadata": {},
   "outputs": [],
   "source": [
    "agenda_summaries = {}\n",
    "for agenda in agenda_text.split('\\n'):\n",
    "    summary_text = \\\n",
    "        return_llm_answer('From this meeting, provide a one line short summary and detailed, long summary seperated by a empty line, related to this agenda item: '\n",
    "                           + agenda, chain, search_index)\n",
    "    summary_text = summary_text.split(\"\\n\\n\")\n",
    "    short_summary = summary_text[0]\n",
    "    long_summary = summary_text[1]\n",
    "    "
   ]
  },
  {
   "cell_type": "code",
   "execution_count": 23,
   "id": "b84e7b0f",
   "metadata": {},
   "outputs": [
    {
     "data": {
      "text/plain": [
       "{'Duke and Duchess of Sussex asked to vacate UK home Frogmore Cottage.': 'Short summary: Duke and Duchess of Sussex were asked to vacate their UK residence, Frogmore Cottage.\\n\\nLong summary: During the meeting, the group discussed the news that the Duke and Duchess of Sussex were asked to vacate their UK residence, Frogmore Cottage, which was gifted to them by the late Queen Elizabeth. The property is owned by the Crown Estate and has since been offered to Prince Andrew. The renovation of the cottage sparked controversy after it was revealed that about $3 million of British taxpayers\\' money had been used for refurbishments, but the couple has since paid back the public money following their relocation to California. The spokesperson for the couple confirmed that they have been requested to vacate their residence at Frogmore Cottage. The news came days after the release of Prince Harry\\'s memoir, \"Spear,\" which revealed personal details about his life and struggles, including his coping with his mother\\'s death and his experimentation with drugs. The family is in an unprecedented crisis, and any discussions related to this matter will be a private family matter, according to a royal source.',\n",
       " 'Alex Muradugh guilty.': \"Short summary: Alex Murdaugh is found guilty of murdering his wife and son, as well as stealing millions of dollars from clients and colleagues.\\n\\nLong summary: Alex Murdaugh, a first-generation lawyer from a well-established family, has been convicted of murdering his wife and son, as well as stealing millions of dollars from clients and colleagues. The verdict comes after a nearly six-week-long trial, more than 20 months after the fatal shooting of Mr. Murdaugh's wife Maggie, 52, and his son Paul, 22. The grisly crime had reverberated across the state, in part because of the family's story history of controlling a regional prosecutor's office in South Carolina Low Country region for more than eight years and running an influential law firm for even longer. Prosecutors contended that Mr. Murdaugh had killed his son with a shotgun, then gunned down his wife with a rifle, before quickly setting about creating an alibi. The crucial piece of evidence was a many-long video recorded at the kennels where the murders occurred, which happened to capture Mr. Murdaugh's voice in the background. The video was taken by Mr. Murdaugh in one of his last living moments, inadvertently helping to secure his conviction. The minimum sentence for murder is 30 years in prison, and prosecutors have said they will seek a sentence of life in prison without the possibility of parole.\",\n",
       " 'Data Centers Intro/definition and origins/size, density and efficiency growth.': 'Short summary: The meeting discussed data centers, including their definition, origins, and growth in size, density, and efficiency.\\n\\nLong summary: The meeting covered a range of topics related to data centers, which are facilities that house IT equipment and infrastructure for secure and efficient computing. The speakers discussed the evolution of data centers from early computer rooms to modular, highly virtualized facilities that support cloud computing and other web-based services. They explained that data centers come in different sizes and types, including infrastructure as a service, software as a service, and traditional enterprise IT centers. The speakers also discussed the growth of data centers in terms of size, density, and power efficiency, highlighting advances in CPU and storage technology that have allowed for faster and more powerful computers within the same area. They noted that while individual components have become more power efficient, the overall power consumption per rack has risen dramatically in recent years due to increased density. The speakers emphasized the importance of understanding the physical resources that make up the cloud, in order to program and debug cloud-based applications effectively.'}"
      ]
     },
     "execution_count": 23,
     "metadata": {},
     "output_type": "execute_result"
    }
   ],
   "source": [
    "agenda_summaries"
   ]
  },
  {
   "cell_type": "code",
   "execution_count": null,
   "id": "3f19ecdd",
   "metadata": {},
   "outputs": [],
   "source": []
  }
 ],
 "metadata": {
  "kernelspec": {
   "display_name": "Python 3 (ipykernel)",
   "language": "python",
   "name": "python3"
  },
  "language_info": {
   "codemirror_mode": {
    "name": "ipython",
    "version": 3
   },
   "file_extension": ".py",
   "mimetype": "text/x-python",
   "name": "python",
   "nbconvert_exporter": "python",
   "pygments_lexer": "ipython3",
   "version": "3.9.13"
  }
 },
 "nbformat": 4,
 "nbformat_minor": 5
}
