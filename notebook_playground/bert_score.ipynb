{
 "cells": [
  {
   "cell_type": "code",
   "execution_count": 1,
   "id": "5fa1ac4e",
   "metadata": {},
   "outputs": [],
   "source": [
    "from evaluate import load"
   ]
  },
  {
   "cell_type": "code",
   "execution_count": 6,
   "id": "b8fb28df",
   "metadata": {},
   "outputs": [],
   "source": [
    "# !pip install bert_score"
   ]
  },
  {
   "cell_type": "code",
   "execution_count": 2,
   "id": "25528b39",
   "metadata": {},
   "outputs": [],
   "source": [
    "bertscore = load(\"bertscore\")"
   ]
  },
  {
   "cell_type": "code",
   "execution_count": 6,
   "id": "f0d39e27",
   "metadata": {},
   "outputs": [],
   "source": [
    "def bertscore_calc(predictions, references):\n",
    "    results = bertscore.compute(predictions=predictions, references=references, lang=\"en\")\n",
    "    return (results['f1'], sum(results['f1']) / len(results['f1']))"
   ]
  },
  {
   "cell_type": "markdown",
   "id": "cf4678a0",
   "metadata": {},
   "source": [
    "## A3_technews"
   ]
  },
  {
   "cell_type": "code",
   "execution_count": 3,
   "id": "dc40fe4e",
   "metadata": {},
   "outputs": [],
   "source": [
    "references = [\"Vincent will investigate ChatGPT’s APIs for extracting agenda and action items from the meeting transcript.\", \n",
    "              \"Yooni will investigate whether the middle layer of management is helping or slowing the company’s efficiency.\"]"
   ]
  },
  {
   "cell_type": "code",
   "execution_count": 7,
   "id": "3cf50b6b",
   "metadata": {},
   "outputs": [
    {
     "data": {
      "text/plain": [
       "([0.8786282539367676, 0.9133347272872925], 0.89598149061203)"
      ]
     },
     "execution_count": 7,
     "metadata": {},
     "output_type": "execute_result"
    }
   ],
   "source": [
    "regular_prompting = [\"Dazhi will do a deep dive into the capabilities of GPT-4.\",\n",
    "                     \"Yooni will investigate the impact of too much middle management on a company's performance and leadership structure, and also explore whether other tech giants like Amazon or Google are experiencing the same problem.\"]\n",
    "bertscore_calc(predictions = regular_prompting, references = references)"
   ]
  },
  {
   "cell_type": "markdown",
   "id": "9ba6480c",
   "metadata": {},
   "source": [
    "## A3_captstone"
   ]
  },
  {
   "cell_type": "code",
   "execution_count": 9,
   "id": "cf4a8d93",
   "metadata": {},
   "outputs": [
    {
     "data": {
      "text/plain": [
       "([0.906110405921936, 0.9210726618766785], 0.9135915338993073)"
      ]
     },
     "execution_count": 9,
     "metadata": {},
     "output_type": "execute_result"
    }
   ],
   "source": [
    "references = [\"Dazhi will investigate OpenAI's ChatGPT API.\", \n",
    "              \"Jeff will submit the plan and design documents.\"]\n",
    "regular_prompting = [\"Dazhi to work on using ChatGPT to extract agenda and action items from the meeting transcript before the mentor meeting next week.\",\n",
    "                   \"Jeff to submit the plan and design documents on Gradescope next week.\"]\n",
    "bertscore_calc(predictions = regular_prompting, references = references)"
   ]
  },
  {
   "cell_type": "markdown",
   "id": "62ba3685",
   "metadata": {},
   "source": [
    "## A3_dataScraping"
   ]
  },
  {
   "cell_type": "code",
   "execution_count": 17,
   "id": "ecdb92e7",
   "metadata": {},
   "outputs": [
    {
     "name": "stderr",
     "output_type": "stream",
     "text": [
      "Warning: Empty candidate sentence detected; setting raw BERTscores to 0.\n"
     ]
    },
    {
     "data": {
      "text/plain": [
       "([0.914306640625,\n",
       "  0.9267765283584595,\n",
       "  0.9657270908355713,\n",
       "  0.9832932949066162,\n",
       "  0.9464109539985657,\n",
       "  0.0,\n",
       "  0.9678764939308167,\n",
       "  0.9454686641693115,\n",
       "  1.0],\n",
       " 0.8499844074249268)"
      ]
     },
     "execution_count": 17,
     "metadata": {},
     "output_type": "execute_result"
    }
   ],
   "source": [
    "a3_dataScraping_references = [\"Jeffrey will read Selenium’s documentation.\",\n",
    "             \"Jeffrey will help Yooni with installation issues.\",\n",
    "             \"Jeffrey will create a GitHub branch.\",\n",
    "             \"Jeffrey and Yooni will report the progress tomorrow to Dazhi again.\",\n",
    "             \"Jeffrey will schedule a meeting with Yooni.\",\n",
    "             \"Yooni will update her python environment.\",\n",
    "             \"Yooni will read Beautiful Soup’s documentation.\",\n",
    "             \"Dazhi will add a new member to the team to help out with this project.\",\n",
    "             \"Dazhi will send updates to the team in a week.\"]\n",
    "regular_prompting = [\"Jeffrey will try using Selenium to scrape some dynamic websites.\",\n",
    "                    \"Jeffrey will help Yooni with installing Beautiful Soup and updating her Python environment.\",\n",
    "                    \"Jeffrey will create a GitHub branch to track project progress.\",\n",
    "                    \"Jeffrey and Yooni will report their progress to Dazhi tomorrow.\",\n",
    "                     \"Jeffrey will schedule a meeting with Yooni to explain his previous code to her.\",\n",
    "                     \"\",\n",
    "                     \"Yooni will read the Beautiful Soup documentation.\",\n",
    "                     \"Dazhi will add a new member to the team if necessary.\",\n",
    "                     \"Dazhi will send updates to the team in a week.\"]\n",
    "bertscore_calc(predictions = regular_prompting, references = a3_dataScraping_references)"
   ]
  },
  {
   "cell_type": "markdown",
   "id": "c2c3b5f9",
   "metadata": {},
   "source": [
    "## COT Prompt (One-shot)"
   ]
  },
  {
   "cell_type": "markdown",
   "id": "8bccdd38",
   "metadata": {},
   "source": [
    "Q: Extract action items from the following transcript: \n",
    "Jack: I kept having dependencies for my project. Can you help me with that?\n",
    "Alice: Yeah, sure. But before that make sure you update your docker base image.\n",
    "Jack: Yeah sure.\n",
    "\n",
    "A: Jack first asked Alice to help with his dependencies issues. Although Alice agreed to help him, she wanted Jack to update his Docker environment first. Therefore, there are two action items involved in this conversation: \n",
    "1. Jack will update his Docker running environment. \n",
    "2. Alice will help Jack with his dependencies issues."
   ]
  },
  {
   "cell_type": "code",
   "execution_count": 23,
   "id": "e964f793",
   "metadata": {},
   "outputs": [
    {
     "data": {
      "text/plain": [
       "([0.8897291421890259,\n",
       "  0.8655575513839722,\n",
       "  0.9592143297195435,\n",
       "  0.9832003712654114,\n",
       "  0.9464109539985657,\n",
       "  0.9193753004074097,\n",
       "  0.9152740240097046,\n",
       "  0.9777637720108032,\n",
       "  1.0],\n",
       " 0.939613938331604)"
      ]
     },
     "execution_count": 23,
     "metadata": {},
     "output_type": "execute_result"
    }
   ],
   "source": [
    "cot1 = [\"Jeffrey will try using the selenium library to scrape some of the dynamic websites on their list.\",\n",
    "       \"Yooni will update her Python environment with Jeffrey's help and read the Beautiful Soup documentation while waiting for the progress meeting.\",\n",
    "       \"Jeffrey will create a GitHub branch to track the progress of the project.\",\n",
    "       \"Jeffrey and Yooni will report the progress of the project to Dazhi again tomorrow.\",\n",
    "       \"Jeffrey will schedule a meeting with Yooni to explain his previous code to her.\",\n",
    "       \"Yooni will update her Python environment with Jeffrey's help and read the Beautiful Soup documentation while waiting for the progress meeting.\",\n",
    "       \"Yooni will update her Python environment with Jeffrey's help and read the Beautiful Soup documentation while waiting for the progress meeting.\",\n",
    "       \"Dazhi will add a new member to the team to help out with the project if needed.\",\n",
    "       \"Dazhi will send updates to the team in a week.\"]\n",
    "bertscore_calc(predictions = cot1, references = a3_dataScraping_references)"
   ]
  },
  {
   "cell_type": "markdown",
   "id": "0d35aeaa",
   "metadata": {},
   "source": [
    "## Zero-shot (Let's think step by step)"
   ]
  },
  {
   "cell_type": "code",
   "execution_count": 20,
   "id": "6edc8527",
   "metadata": {},
   "outputs": [
    {
     "name": "stderr",
     "output_type": "stream",
     "text": [
      "Warning: Empty candidate sentence detected; setting raw BERTscores to 0.\n"
     ]
    },
    {
     "data": {
      "text/plain": [
       "([0.8966648578643799,\n",
       "  0.0,\n",
       "  0.9297414422035217,\n",
       "  0.885223925113678,\n",
       "  0.9080175161361694,\n",
       "  0.9355043768882751,\n",
       "  0.9202269911766052,\n",
       "  0.9369007349014282,\n",
       "  0.9846404194831848],\n",
       " 0.8218800293074714)"
      ]
     },
     "execution_count": 20,
     "metadata": {},
     "output_type": "execute_result"
    }
   ],
   "source": [
    "zshot = [\"Jeffrey to explore the Selenium library to scrape dynamic websites.\",\n",
    "        \"\",\n",
    "        \"Jeffrey to create a GitHub branch for the project to track progress.\",\n",
    "        \"Jeffrey to schedule a meeting with Yooni to explain his previous code.\",\n",
    "        \"Jeffrey and Yooni to report the progress of the project to Dazhi the next day.\",\n",
    "        \"Yooni to update her python environment to resolve installation issues with Beautiful Soup library.\",\n",
    "        \"Yooni to read the Beautiful Soup documentation.\",\n",
    "        \"Dazhi to add a new member to the team if required.\",\n",
    "        \"Dazhi to send updates to the team in a week.\"]\n",
    "bertscore_calc(predictions = zshot, references = a3_dataScraping_references)"
   ]
  },
  {
   "cell_type": "code",
   "execution_count": null,
   "id": "095b75eb",
   "metadata": {},
   "outputs": [],
   "source": []
  }
 ],
 "metadata": {
  "kernelspec": {
   "display_name": "Python [conda env:py38]",
   "language": "python",
   "name": "conda-env-py38-py"
  },
  "language_info": {
   "codemirror_mode": {
    "name": "ipython",
    "version": 3
   },
   "file_extension": ".py",
   "mimetype": "text/x-python",
   "name": "python",
   "nbconvert_exporter": "python",
   "pygments_lexer": "ipython3",
   "version": "3.8.16"
  }
 },
 "nbformat": 4,
 "nbformat_minor": 5
}
