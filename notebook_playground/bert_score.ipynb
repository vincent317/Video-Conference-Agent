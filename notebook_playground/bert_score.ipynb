{
 "cells": [
  {
   "cell_type": "code",
   "execution_count": 4,
   "id": "5fa1ac4e",
   "metadata": {},
   "outputs": [],
   "source": [
    "from evaluate import load"
   ]
  },
  {
   "cell_type": "code",
   "execution_count": 5,
   "id": "b8fb28df",
   "metadata": {},
   "outputs": [],
   "source": [
    "# !pip install bert_score"
   ]
  },
  {
   "cell_type": "code",
   "execution_count": 6,
   "id": "25528b39",
   "metadata": {},
   "outputs": [],
   "source": [
    "bertscore = load(\"bertscore\")"
   ]
  },
  {
   "cell_type": "code",
   "execution_count": 7,
   "id": "f0d39e27",
   "metadata": {},
   "outputs": [],
   "source": [
    "def bertscore_calc(predictions, references):\n",
    "    results = bertscore.compute(predictions=predictions, references=references, lang=\"en\")\n",
    "    return (results['f1'], sum(results['f1']) / len(results['f1']))"
   ]
  },
  {
   "cell_type": "markdown",
   "id": "cf4678a0",
   "metadata": {},
   "source": [
    "## A3_technews"
   ]
  },
  {
   "cell_type": "code",
   "execution_count": 3,
   "id": "dc40fe4e",
   "metadata": {},
   "outputs": [],
   "source": [
    "references = [\"Vincent will investigate ChatGPT’s APIs for extracting agenda and action items from the meeting transcript.\", \n",
    "              \"Yooni will investigate whether the middle layer of management is helping or slowing the company’s efficiency.\"]"
   ]
  },
  {
   "cell_type": "code",
   "execution_count": 7,
   "id": "3cf50b6b",
   "metadata": {},
   "outputs": [
    {
     "data": {
      "text/plain": [
       "([0.8786282539367676, 0.9133347272872925], 0.89598149061203)"
      ]
     },
     "execution_count": 7,
     "metadata": {},
     "output_type": "execute_result"
    }
   ],
   "source": [
    "regular_prompting = [\"Dazhi will do a deep dive into the capabilities of GPT-4.\",\n",
    "                     \"Yooni will investigate the impact of too much middle management on a company's performance and leadership structure, and also explore whether other tech giants like Amazon or Google are experiencing the same problem.\"]\n",
    "bertscore_calc(predictions = regular_prompting, references = references)"
   ]
  },
  {
   "cell_type": "markdown",
   "id": "9ba6480c",
   "metadata": {},
   "source": [
    "## A3_captstone"
   ]
  },
  {
   "cell_type": "code",
   "execution_count": 20,
   "id": "cf4a8d93",
   "metadata": {},
   "outputs": [
    {
     "name": "stderr",
     "output_type": "stream",
     "text": [
      "Warning: Empty candidate sentence detected; setting raw BERTscores to 0.\n",
      "Warning: Empty reference sentence detected; setting raw BERTScores to 0.\n"
     ]
    },
    {
     "data": {
      "text/plain": [
       "([0.9814069271087646, 0.0], 0.4907034635543823)"
      ]
     },
     "execution_count": 20,
     "metadata": {},
     "output_type": "execute_result"
    }
   ],
   "source": [
    "references = [\"Yooni will investigate ChatGPT's API for extracting agenda and action items from meeting transcript.\",\n",
    "             \"\"]\n",
    "regular_prompting = [\"Yooni will work on using ChatGPT's APIs for extracting agenda and action items from the meeting transcript.\",\n",
    "                   \"\"]\n",
    "bertscore_calc(predictions = regular_prompting, references = references)"
   ]
  },
  {
   "cell_type": "markdown",
   "id": "62ba3685",
   "metadata": {},
   "source": [
    "## A3_dataScraping"
   ]
  },
  {
   "cell_type": "code",
   "execution_count": 23,
   "id": "ecdb92e7",
   "metadata": {},
   "outputs": [
    {
     "name": "stderr",
     "output_type": "stream",
     "text": [
      "Warning: Empty candidate sentence detected; setting raw BERTscores to 0.\n"
     ]
    },
    {
     "data": {
      "text/plain": [
       "([0.9096150994300842,\n",
       "  0.9128140807151794,\n",
       "  0.9392127990722656,\n",
       "  0.9371560215950012,\n",
       "  0.953167736530304,\n",
       "  0.0,\n",
       "  0.0,\n",
       "  0.932282567024231,\n",
       "  0.9538455605506897,\n",
       "  0.9386240839958191],\n",
       " 0.7476717948913574)"
      ]
     },
     "execution_count": 23,
     "metadata": {},
     "output_type": "execute_result"
    }
   ],
   "source": [
    "a3_dataScraping_references = [\"Jeffrey will read Selenium’s documentation.\",\n",
    "             \"Jeffrey will help Yooni with installation issues.\",\n",
    "             \"Jeffrey will create a GitHub branch.\",\n",
    "             \"Jeffrey will report the progress tomorrow to Dazhi again.\",\n",
    "             \"Jeffrey will schedule a meeting with Yooni.\",\n",
    "             \"Yooni will update her python environment.\",\n",
    "             \"Yooni will read Beautiful Soup’s documentation.\",\n",
    "             \"Yooni will report the progress tomorrow to Dazhi again.\",  \n",
    "             \"Dazhi will add a new member to the team to help out with this project.\",\n",
    "             \"Dazhi will send updates to the team in a week.\"]\n",
    "regular_prompting = [\"Jeffrey needs to try using the Selenium library to scrape dynamic websites and read the documentation for it.\",\n",
    "                    \"Jeffrey needs to help Yooni with installation issues for the Beautiful Soup library and suggest updating her Python environment.\",\n",
    "                    \"Jeffrey needs to create a GitHub branch for the project to track progress.\",\n",
    "                    \"Jeffrey and Yooni need to report progress to Dazhi by tomorrow.\",\n",
    "                     \"Jeffrey needs to schedule a meeting with Yooni to explain the previous code.\",\n",
    "                     \"\",\n",
    "                     \"\",\n",
    "                     \"Jeffrey and Yooni need to report progress to Dazhi by tomorrow.\",\n",
    "                     \"Dazhi will add new members to the team to help with the project and send updates in a week.\",\n",
    "                     \"Dazhi will add new members to the team to help with the project and send updates in a week.\"]\n",
    "bertscore_calc(predictions = regular_prompting, references = a3_dataScraping_references)"
   ]
  },
  {
   "cell_type": "markdown",
   "id": "c2c3b5f9",
   "metadata": {},
   "source": [
    "## COT Prompt (One-shot)"
   ]
  },
  {
   "cell_type": "markdown",
   "id": "8bccdd38",
   "metadata": {},
   "source": [
    "Q: Extract action items from the following transcript: \n",
    "Jack: I kept having dependencies for my project. Can you help me with that?\n",
    "Alice: Yeah, sure. But before that make sure you update your docker base image.\n",
    "Jack: Yeah sure.\n",
    "\n",
    "A: Jack first asked Alice to help with his dependencies issues. Although Alice agreed to help him, she wanted Jack to update his Docker environment first. Therefore, there are two action items involved in this conversation: \n",
    "1. Jack will update his Docker running environment. \n",
    "2. Alice will help Jack with his dependencies issues."
   ]
  },
  {
   "cell_type": "code",
   "execution_count": 23,
   "id": "e964f793",
   "metadata": {},
   "outputs": [
    {
     "data": {
      "text/plain": [
       "([0.8897291421890259,\n",
       "  0.8655575513839722,\n",
       "  0.9592143297195435,\n",
       "  0.9832003712654114,\n",
       "  0.9464109539985657,\n",
       "  0.9193753004074097,\n",
       "  0.9152740240097046,\n",
       "  0.9777637720108032,\n",
       "  1.0],\n",
       " 0.939613938331604)"
      ]
     },
     "execution_count": 23,
     "metadata": {},
     "output_type": "execute_result"
    }
   ],
   "source": [
    "cot1 = [\"Jeffrey will try using the selenium library to scrape some of the dynamic websites on their list.\",\n",
    "       \"Yooni will update her Python environment with Jeffrey's help and read the Beautiful Soup documentation while waiting for the progress meeting.\",\n",
    "       \"Jeffrey will create a GitHub branch to track the progress of the project.\",\n",
    "       \"Jeffrey and Yooni will report the progress of the project to Dazhi again tomorrow.\",\n",
    "       \"Jeffrey will schedule a meeting with Yooni to explain his previous code to her.\",\n",
    "       \"Yooni will update her Python environment with Jeffrey's help and read the Beautiful Soup documentation while waiting for the progress meeting.\",\n",
    "       \"Yooni will update her Python environment with Jeffrey's help and read the Beautiful Soup documentation while waiting for the progress meeting.\",\n",
    "       \"Dazhi will add a new member to the team to help out with the project if needed.\",\n",
    "       \"Dazhi will send updates to the team in a week.\"]\n",
    "bertscore_calc(predictions = cot1, references = a3_dataScraping_references)"
   ]
  },
  {
   "cell_type": "markdown",
   "id": "0d35aeaa",
   "metadata": {},
   "source": [
    "## Zero-shot (Let's think step by step)"
   ]
  },
  {
   "cell_type": "code",
   "execution_count": 20,
   "id": "6edc8527",
   "metadata": {},
   "outputs": [
    {
     "name": "stderr",
     "output_type": "stream",
     "text": [
      "Warning: Empty candidate sentence detected; setting raw BERTscores to 0.\n"
     ]
    },
    {
     "data": {
      "text/plain": [
       "([0.8966648578643799,\n",
       "  0.0,\n",
       "  0.9297414422035217,\n",
       "  0.885223925113678,\n",
       "  0.9080175161361694,\n",
       "  0.9355043768882751,\n",
       "  0.9202269911766052,\n",
       "  0.9369007349014282,\n",
       "  0.9846404194831848],\n",
       " 0.8218800293074714)"
      ]
     },
     "execution_count": 20,
     "metadata": {},
     "output_type": "execute_result"
    }
   ],
   "source": [
    "zshot = [\"Jeffrey to explore the Selenium library to scrape dynamic websites.\",\n",
    "        \"\",\n",
    "        \"Jeffrey to create a GitHub branch for the project to track progress.\",\n",
    "        \"Jeffrey to schedule a meeting with Yooni to explain his previous code.\",\n",
    "        \"Jeffrey and Yooni to report the progress of the project to Dazhi the next day.\",\n",
    "        \"Yooni to update her python environment to resolve installation issues with Beautiful Soup library.\",\n",
    "        \"Yooni to read the Beautiful Soup documentation.\",\n",
    "        \"Dazhi to add a new member to the team if required.\",\n",
    "        \"Dazhi to send updates to the team in a week.\"]\n",
    "bertscore_calc(predictions = zshot, references = a3_dataScraping_references)"
   ]
  },
  {
   "cell_type": "code",
   "execution_count": 26,
   "id": "095b75eb",
   "metadata": {},
   "outputs": [
    {
     "name": "stderr",
     "output_type": "stream",
     "text": [
      "Warning: Empty candidate sentence detected; setting raw BERTscores to 0.\n"
     ]
    },
    {
     "data": {
      "text/plain": [
       "([0.9559602737426758,\n",
       "  0.9447452425956726,\n",
       "  0.9699907898902893,\n",
       "  0.9053048491477966,\n",
       "  0.9000679850578308,\n",
       "  0.8928340673446655,\n",
       "  0.0,\n",
       "  0.0,\n",
       "  0.0],\n",
       " 0.6187670230865479)"
      ]
     },
     "execution_count": 26,
     "metadata": {},
     "output_type": "execute_result"
    }
   ],
   "source": [
    "search_ref = [\"Jeffrey will start working on implementing the BM25 algorithm in Python.\",\n",
    "\"Dazhi will implement the BM25 algorithm in Java.\",\n",
    "\"Yooni will translate the Python code to Java after they finish implementing BM25.\",\n",
    "\"Jeffrey will read up more on the Indri probabilistic model and try to implement it in Python.\",\n",
    "\"Yooni will read up more on the Indri probabilistic model and try to implement it in Python.\",\n",
    "\"Dazhi will implement the Indri model in Java on his own.\",\n",
    "\"Dazhi will read up on how to implement reranking for search engines. \",\n",
    "\"Yooni will read up on how to implement reranking for search engines. \",\n",
    "\"Jeffrey will take the lead on studying what machine learning model to use for reranking.\"]\n",
    "\n",
    "search_standard_prompt = [\"Jeffrey will develop the Python code for implementing the BM25 algorithm.\",\n",
    "                         \"Yooni will work on implementing the BM25 algorithm in Java.\",\n",
    "                         \"Yooni will translate the Python code to Java after they finish implementing the algorithm in Python.\",\n",
    "                         \"The team will move on to implementing the Indri probabilistic model, with Dazhi giving a brief overview of it. However, no specific action item was assigned for this yet.\",\n",
    "                         \"The team will move on to implementing the Indri probabilistic model, with Dazhi giving a brief overview of it. However, no specific action item was assigned for this yet.\",\n",
    "                         \"The team will move on to implementing the Indri probabilistic model, with Dazhi giving a brief overview of it. However, no specific action item was assigned for this yet.\",\n",
    "                         \"\",\n",
    "                         \"\",\n",
    "                         \"\"]\n",
    "\n",
    "bertscore_calc(predictions = search_standard_prompt, references = search_ref)"
   ]
  },
  {
   "cell_type": "code",
   "execution_count": 28,
   "id": "4ed9a71b",
   "metadata": {},
   "outputs": [
    {
     "name": "stderr",
     "output_type": "stream",
     "text": [
      "Warning: Empty reference sentence detected; setting raw BERTScores to 0.\n"
     ]
    },
    {
     "data": {
      "text/plain": [
       "([0.907321572303772, 0.0], 0.453660786151886)"
      ]
     },
     "execution_count": 28,
     "metadata": {},
     "output_type": "execute_result"
    }
   ],
   "source": [
    "tech_ref = [\"Dazhi will investigate OpenAI's GPT-4's capability.\", \"\"]\n",
    "answer = [\"Jeff will do a deep dive into GPT-4's capabilities.\", \"There are no action items.\"]\n",
    "\n",
    "bertscore_calc(predictions = answer, references = tech_ref)"
   ]
  },
  {
   "cell_type": "code",
   "execution_count": null,
   "id": "f25b3b73",
   "metadata": {},
   "outputs": [],
   "source": []
  }
 ],
 "metadata": {
  "kernelspec": {
   "display_name": "Python [conda env:py38]",
   "language": "python",
   "name": "conda-env-py38-py"
  },
  "language_info": {
   "codemirror_mode": {
    "name": "ipython",
    "version": 3
   },
   "file_extension": ".py",
   "mimetype": "text/x-python",
   "name": "python",
   "nbconvert_exporter": "python",
   "pygments_lexer": "ipython3",
   "version": "3.8.16"
  }
 },
 "nbformat": 4,
 "nbformat_minor": 5
}
