{
 "cells": [
  {
   "cell_type": "code",
   "execution_count": 107,
   "id": "6266114d",
   "metadata": {},
   "outputs": [],
   "source": [
    "import os\n",
    "import requests\n",
    "import openai\n",
    "\n",
    "zoom_transript_path = \"85760048922_TRANSCRIPT.vtt\"\n",
    "asr_transcription_path = \"asr_transcription.txt\""
   ]
  },
  {
   "cell_type": "code",
   "execution_count": 108,
   "id": "caa03080",
   "metadata": {},
   "outputs": [],
   "source": [
    "def ppt_matching_parse_transcript(transcript_file, num_participant, num_line_threshold = 3):\n",
    "    \"\"\"Parse a transcript file and extract conversation text from each participant.\n",
    "\n",
    "    Args:\n",
    "        transcript_file (str): Path to the transcript file.\n",
    "        num_participant (int): Number of participants in the conversation.\n",
    "        num_line_threshold (int, optional): Number of conversation lines from each participant\n",
    "            used for further matching. Defaults to 3.\n",
    "\n",
    "    Returns:\n",
    "        str: A concatenated string of the extracted conversation text from each participant.\n",
    "\n",
    "    Raises:\n",
    "        FileNotFoundError: If the transcript file path is invalid.\n",
    "\n",
    "    \"\"\"\n",
    "\n",
    "    def end_transcript_loop(ppt_length):\n",
    "        return len(ppt_length) == 3 and all([v > 100 for v in ppt_length.values()])\n",
    "    \n",
    "    with open(transcript_file) as file:\n",
    "        lines = file.readlines()\n",
    "\n",
    "    ppt_text = {}\n",
    "    ppt_length = {}\n",
    "\n",
    "    for line in lines:\n",
    "        if \": \" not in line:\n",
    "            continue\n",
    "        line_split = line.split(\": \")\n",
    "        speaker, text = line_split[0], line_split[1]\n",
    "        if speaker in ppt_length and ppt_length[speaker] > num_line_threshold:\n",
    "            continue\n",
    "        if speaker not in ppt_text:\n",
    "            ppt_text[speaker] = text\n",
    "        else:\n",
    "            ppt_text[speaker] += text\n",
    "        if speaker not in ppt_length:\n",
    "            ppt_length[speaker] = 1\n",
    "        else:\n",
    "            ppt_length[speaker] += 1\n",
    "        if end_transcript_loop(ppt_length):\n",
    "            break\n",
    "    result_text = \"\"\n",
    "    for k, v in ppt_text.items():\n",
    "        result_text += k + \": \\n\"\n",
    "        result_text += v + \"\\n\"\n",
    "    return result_text"
   ]
  },
  {
   "cell_type": "code",
   "execution_count": 109,
   "id": "409ff7b0",
   "metadata": {},
   "outputs": [],
   "source": [
    "zoom_result_text = parse_transcript(zoom_transript_path, 3)\n",
    "azure_result_text = parse_transcript(asr_transcription_path, 3)"
   ]
  },
  {
   "cell_type": "markdown",
   "id": "63f7d36b",
   "metadata": {},
   "source": [
    "The GPT prompt and content would be:"
   ]
  },
  {
   "cell_type": "code",
   "execution_count": 110,
   "id": "54d48be8",
   "metadata": {},
   "outputs": [
    {
     "name": "stdout",
     "output_type": "stream",
     "text": [
      "Given the following two transcript with different speaker representation, generate a JSON mapping, where each key is the participant in the first transcript, and the value is the corresponding participant name in the second transcript. Return the JSON only.\n",
      "\n",
      "Transcript 1: \n",
      " Speaker 1: \n",
      "OK, let's start today's meeting since this seems like everyone's here. How was your week?\n",
      "You have any plans?\n",
      "Yeah, sounds fun. Mine was super busy too with all those cloud work which is still ongoing. I guess I'll be also be working on the poolside while I'm at Cancun. Anyway, let's start off with our first agenda item. Duke and Duchess of Sussex asked to vacate. You came home Frogmore College.\n",
      "Prince Harry and Megan now reside in the United States, but had retained the early 19th century property as a UK base, gifted to the susexes by the late Queen Elizabeth. Third the second, the cottage is nestled in 1/4 of the Windsor's estate, West of London. They refurbish the property and moves in shortly before the arrival of their son Archie in May 2019.\n",
      "\n",
      " Speaker 2: \n",
      "Mine was super busy with three midterms this week, but I'm excited for the spring break.\n",
      "I don't have any plans right now, but I would just say anything here and blah blah blah, you know, it's your term Dodger.\n",
      "That is said the statement followed reporting British newspaper the song that claimed the peer was being evicted from a property which is owned by the Crown Estate and that it had since been offered to Prince Andrew. One of King Charles Three's brother, Berkingham Palace, said Wednesday it would be offering no comments.\n",
      "A royal source told CNN that any such discussions would be a private family matter.\n",
      "\n",
      " Speaker 3: \n",
      "I'm already at Atlanta. I can't wait to leave Pittsburgh.\n",
      "OK, the Duke and Duchess of Sussex has been asked to vacate Frogmore College, the couple's official UK resident their spokesman to seeing Wednesday.\n",
      "The spokesman said. We can confirm the Duke and Duchess of Sussex have been requested to vacate their residence at Brockmore College.\n",
      "Yeah, don't even mention someone else. Paying my rent would be amazing.\n",
      "\n",
      "\n",
      "Transcript 2: \n",
      "Yooni Choi: \n",
      "Okay, let's start today's meeting. Since this seems like everyone's here. How was your week?\n",
      "You have any plans.\n",
      "Yeah, it sounds fun. I was super busy, too, with all those cloud work which is still ongoing. I guess i'll. I'll be also be working on the pool side while i'm at cancun anyone. Let's start up with our first agenda Item, you can touch us with. Sussex asked to vacate. You came home from where Cottage?\n",
      "Prince Harry and Meghan now reside in the United States, but have retained the early nineteenth century property as a Uk. Base, gifted to the Sussex by the lake Quinn, Elizabeth third, the second. The cottage is nestled in a quarter of the Windsor's estate, west of London.\n",
      "\n",
      "Jiahe Feng: \n",
      "Mine was super busy with 3 midterms this week. but i'm excited for the spring break.\n",
      "I mean. I don't have any plans right now, but I will just say anything here and proper. You know\n",
      "It's your time I'm already at, and I can't wait to leave Pittsburgh.\n",
      "That is said. The statement followed, reporting British newspaper. The song that claim the peer was being evicted from a property which is owned by the Chron estate.\n",
      "\n",
      "DAZHI PENG: \n",
      "Okay. The Duke and Duchess of Syntax has been asked to vacate the frog. My courage.\n",
      "The couple's Official. You Key Regiment, their spokesman to a team and Wednesday.\n",
      "The postman said that we can confirm the Duke and Duchess of Sussex have been requested you back in their residence at Rockmore Cottage.\n",
      "Yeah, don't even mention someone else paying my red would be amazing\n",
      "\n",
      "\n"
     ]
    }
   ],
   "source": [
    "print(\"Given the following two transcript with different speaker representation, generate a JSON mapping, where each key is the participant in the first transcript, and the value is the corresponding participant name in the second transcript. Return the JSON only.\")\n",
    "print()\n",
    "print(\"Transcript 1: \\n\" + azure_result_text + \"\\nTranscript 2: \\n\" + zoom_result_text)"
   ]
  },
  {
   "cell_type": "code",
   "execution_count": 111,
   "id": "a985eb71",
   "metadata": {},
   "outputs": [],
   "source": [
    "API_KEY = os.environ['OPENAI_API_KEY']\n",
    "url = 'https://api.openai.com/v1/chat/completions'\n",
    "headers = {'Content-Type': 'application/json', 'Authorization': 'Bearer ' + API_KEY}"
   ]
  },
  {
   "cell_type": "code",
   "execution_count": 112,
   "id": "acefa652",
   "metadata": {},
   "outputs": [],
   "source": [
    "def ppt_matching_api_call(ASR_transcript, Zoom_transcript):\n",
    "    \n",
    "    # combine two transcript\n",
    "    combined_text = \"Transcript 1: \\n\" + ASR_transcript + \"\\nTranscript 2: \\n\" + Zoom_transcript\n",
    "    \n",
    "    prompt = \"Given the following two transcript with different speaker representation, generate a JSON mapping, where each key is the participant in the first transcript, and the value is the corresponding participant name in the second transcript. Return the JSON only.\"\n",
    "    data = {\n",
    "        \"model\": \"gpt-3.5-turbo\",\n",
    "        \"messages\": [\n",
    "            {\"role\": \"system\", \"content\": \"Perform participant matching and return a JSON\"},\n",
    "            {\"role\": \"assistant\", \"content\": combined_text},\n",
    "            {\"role\": \"user\", \"content\": prompt},\n",
    "        ],\n",
    "        \"temperature\": 0\n",
    "    }\n",
    "\n",
    "    response = requests.post(url, headers=headers, json=data)\n",
    "    if response.status_code == 200:\n",
    "        mapping = eval(ppt_matching_string['choices'][0]['message']['content'])\n",
    "        if isinstance(mapping, dict):\n",
    "            return mapping\n",
    "        else:\n",
    "            return ValueError(\"Error in GPT participant matching. Must return a dictionary mapping in its response.\")\n",
    "    else:\n",
    "        raise ValueError(\"Fail to get GPT API response.\")"
   ]
  },
  {
   "cell_type": "code",
   "execution_count": 113,
   "id": "6357aa58",
   "metadata": {},
   "outputs": [
    {
     "data": {
      "text/plain": [
       "{'Speaker 1': 'Yooni Choi',\n",
       " 'Speaker 2': 'Jiahe Feng',\n",
       " 'Speaker 3': 'DAZHI PENG'}"
      ]
     },
     "execution_count": 113,
     "metadata": {},
     "output_type": "execute_result"
    }
   ],
   "source": [
    "ppt_matching_api_call(zoom_result_text, azure_result_text)"
   ]
  },
  {
   "cell_type": "code",
   "execution_count": null,
   "id": "0d911900",
   "metadata": {},
   "outputs": [],
   "source": []
  }
 ],
 "metadata": {
  "kernelspec": {
   "display_name": "Python 3 (ipykernel)",
   "language": "python",
   "name": "python3"
  },
  "language_info": {
   "codemirror_mode": {
    "name": "ipython",
    "version": 3
   },
   "file_extension": ".py",
   "mimetype": "text/x-python",
   "name": "python",
   "nbconvert_exporter": "python",
   "pygments_lexer": "ipython3",
   "version": "3.9.12"
  }
 },
 "nbformat": 4,
 "nbformat_minor": 5
}
