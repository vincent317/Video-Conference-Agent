{
 "cells": [
  {
   "cell_type": "markdown",
   "id": "5d93ac4e",
   "metadata": {},
   "source": [
    "# Meeting Report Parsing using Zoom API\n",
    "\n",
    "## VCA Team, 4/13/2023"
   ]
  },
  {
   "cell_type": "markdown",
   "id": "62570587",
   "metadata": {},
   "source": [
    "# Required Packages and Token"
   ]
  },
  {
   "cell_type": "code",
   "execution_count": 1,
   "id": "caee449a",
   "metadata": {},
   "outputs": [
    {
     "name": "stdout",
     "output_type": "stream",
     "text": [
      "Requirement already satisfied: pyjwt in /Users/yooni/opt/anaconda3/lib/python3.8/site-packages (2.6.0)\n",
      "Requirement already satisfied: webvtt-py in /Users/yooni/opt/anaconda3/lib/python3.8/site-packages (0.4.6)\n",
      "Requirement already satisfied: docopt in /Users/yooni/opt/anaconda3/lib/python3.8/site-packages (from webvtt-py) (0.6.2)\n"
     ]
    }
   ],
   "source": [
    "!pip install pyjwt\n",
    "!pip install webvtt-py"
   ]
  },
  {
   "cell_type": "code",
   "execution_count": 2,
   "id": "c91b1507",
   "metadata": {},
   "outputs": [],
   "source": [
    "import jwt\n",
    "import requests\n",
    "import json\n",
    "from time import time\n",
    "import os\n",
    "import webvtt\n"
   ]
  },
  {
   "cell_type": "code",
   "execution_count": 3,
   "id": "8cde4c13",
   "metadata": {},
   "outputs": [],
   "source": [
    "# generate a token using the pyjwt library\n",
    "token = jwt.encode(\n",
    "\n",
    "    # Create a payload of the token containing\n",
    "    # API Key & expiration time\n",
    "    {'iss': API_KEY, 'exp': time() + 5000},\n",
    "\n",
    "    # Secret used to generate token signature\n",
    "    API_SEC,\n",
    "\n",
    "    # Specify the hashing alg\n",
    "    algorithm='HS256'\n",
    ")"
   ]
  },
  {
   "cell_type": "markdown",
   "id": "0c14b4ac",
   "metadata": {},
   "source": [
    "We have recorded a meeting with ID `85760048922` (updated 3/3/2023), and below we show how to retreive all the information after the meeting is over."
   ]
  },
  {
   "cell_type": "code",
   "execution_count": 2,
   "id": "c4c06477",
   "metadata": {},
   "outputs": [],
   "source": [
    "meeting_id = 85760048922"
   ]
  },
  {
   "cell_type": "code",
   "execution_count": 3,
   "id": "335b29ae",
   "metadata": {},
   "outputs": [],
   "source": [
    "# input required from user\n",
    "# For Sp23, use Dummy User Input\n",
    "\n",
    "## DUMMY USER INPUT\n",
    "meeting_title = \"23min_demo_meeting\"\n",
    "meeting_date = '2023-03-03T19:59:40Z'\n",
    "meeting_participants_count = 3\n",
    "agenda_list = [\"Duke and Duchess of Sussex asked to vacate UK home Frogmore Cottage\", \n",
    "               \"Alex Muradugh guilty\",\n",
    "               \"Data Center Trends\"]"
   ]
  },
  {
   "cell_type": "code",
   "execution_count": 4,
   "id": "27e9f9db",
   "metadata": {},
   "outputs": [],
   "source": [
    "# start setting up meeting_report_json\n",
    "meeting_report_json = {}"
   ]
  },
  {
   "cell_type": "code",
   "execution_count": null,
   "id": "c59824b7",
   "metadata": {},
   "outputs": [],
   "source": [
    "meeting_report_json['meeting_title'] = meeting_title\n",
    "\n",
    "\n",
    "meeting_report_json['meeting_date'] = meeting_date"
   ]
  },
  {
   "cell_type": "code",
   "execution_count": 5,
   "id": "1f51fcc1",
   "metadata": {},
   "outputs": [
    {
     "data": {
      "text/plain": [
       "'2023-03-03T19:59:40Z'"
      ]
     },
     "execution_count": 5,
     "metadata": {},
     "output_type": "execute_result"
    }
   ],
   "source": [
    "from datetime import datetime as dt\n",
    "meeting_date"
   ]
  },
  {
   "cell_type": "code",
   "execution_count": 44,
   "id": "58c7cb84",
   "metadata": {},
   "outputs": [],
   "source": [
    "# # Meeting details\n",
    "# meet = requests.get(f'https://api.zoom.us/v2/past_meetings/'+str(meeting_id), headers=headers)\n",
    "# if meet.status_code == 200:\n",
    "#     response = json.loads(meet.text)\n",
    "#     title = response['topic']\n",
    "#     meeting_duration = response['total_minutes']"
   ]
  },
  {
   "cell_type": "code",
   "execution_count": 39,
   "id": "730c8dd5",
   "metadata": {},
   "outputs": [
    {
     "data": {
      "text/plain": [
       "{'Yooni Choi': 435.26,\n",
       " 'Jiahe Feng': 497.6309999999999,\n",
       " 'DAZHI PENG': 391.34100000000007}"
      ]
     },
     "execution_count": 39,
     "metadata": {},
     "output_type": "execute_result"
    }
   ],
   "source": [
    "# Meeting participants\n",
    "# as if start_time is 2023-03-03T19:59:40Z\n",
    "start_time = '2023-03-03T19:59:40Z'\n",
    "from datetime import datetime as dt\n",
    "headers = {'authorization': 'Bearer %s' % token, 'content-type': 'application/json'}\n",
    "part = requests.get(f'https://api.zoom.us/v2/past_meetings/'+str(meeting_id)+'/participants', headers=headers)\n",
    "part_info = {}\n",
    "if part.status_code == 200:\n",
    "    response = json.loads(part.text)\n",
    "    part_arr = response['participants']\n",
    "    \n",
    "    for p in part_arr:\n",
    "        name = p['name']\n",
    "        part_info[name] = {'late': 'late' if dt.strptime(p['join_time'], '%Y-%m-%dT%H:%M:%SZ') > dt.strptime(start_time, '%Y-%m-%dT%H:%M:%SZ') else 'on-time'}\n",
    "        \n",
    "# change dazhi's name in p_detail as it's in email :/\n",
    "part_info['DAZHI PENG'] = part_info.pop('dazhip@andrew.cmu.edu')\n",
    "\n",
    "# get speaking time\n",
    "speaking_time = {}\n",
    "for caption in webvtt.read(os.path.join('/Users/yooni/Desktop/vca_data', \"85760048922_TRANSCRIPT.vtt\")):\n",
    "    message = caption.text.split(\":\")\n",
    "    # get the participant ID and the speech text\n",
    "    if len(message) == 1:\n",
    "        participant_name = prev_speaker\n",
    "    else:\n",
    "        participant_name = message[0]\n",
    "    prev_speaker = participant_name\n",
    "    # calculate the speaking time for the participant\n",
    "    time_format = \"%H:%M:%S.%f\"\n",
    "    dt1 = dt.strptime(caption.start, time_format)\n",
    "    dt2 = dt.strptime(caption.end, time_format)\n",
    "\n",
    "    duration = (dt2 - dt1).total_seconds()\n",
    "    if participant_name not in speaking_time:\n",
    "        speaking_time[participant_name] = duration\n",
    "    else:\n",
    "        speaking_time[participant_name] += duration\n",
    "speaking_time"
   ]
  }
 ],
 "metadata": {
  "kernelspec": {
   "display_name": "Python 3",
   "language": "python",
   "name": "python3"
  },
  "language_info": {
   "codemirror_mode": {
    "name": "ipython",
    "version": 3
   },
   "file_extension": ".py",
   "mimetype": "text/x-python",
   "name": "python",
   "nbconvert_exporter": "python",
   "pygments_lexer": "ipython3",
   "version": "3.8.8"
  },
  "vscode": {
   "interpreter": {
    "hash": "ea2fba1330eafecf234206cfb186b9bf7c5755bdd4393c3b282ab3d8c97c006f"
   }
  }
 },
 "nbformat": 4,
 "nbformat_minor": 5
}
