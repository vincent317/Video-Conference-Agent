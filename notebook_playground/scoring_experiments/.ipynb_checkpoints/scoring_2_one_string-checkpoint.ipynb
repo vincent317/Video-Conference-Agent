{
 "cells": [
  {
   "cell_type": "code",
   "execution_count": 1,
   "id": "983a9436",
   "metadata": {},
   "outputs": [],
   "source": [
    "from evaluate import load\n",
    "import os\n",
    "bertscore = load(\"bertscore\")\n",
    "import warnings\n",
    "warnings.filterwarnings(\"ignore\")"
   ]
  },
  {
   "cell_type": "code",
   "execution_count": 60,
   "id": "3c4352d4",
   "metadata": {},
   "outputs": [],
   "source": [
    "import numpy as np\n",
    "import matplotlib.pyplot as plt\n",
    "import pandas as pd"
   ]
  },
  {
   "cell_type": "code",
   "execution_count": 2,
   "id": "a88bbc26",
   "metadata": {},
   "outputs": [],
   "source": [
    "def bertscore_calc(predictions, references):\n",
    "    \n",
    "    num_diff = len(references) - len(predictions)\n",
    "    assert(num_diff == 0)\n",
    "    \n",
    "    results = bertscore.compute(predictions=predictions, references=references, lang=\"en\")\n",
    "        \n",
    "    \n",
    "    return (results['f1'], sum(results['f1']) / len(results['f1']))"
   ]
  },
  {
   "cell_type": "code",
   "execution_count": 5,
   "id": "ca36fc59",
   "metadata": {},
   "outputs": [],
   "source": [
    "A = [\"Hi, my name is Jeppy and I like to play games. Hi, my name is David and I am good at Python.\"]\n",
    "B = [\"Hi, my name is David and I am good at Python. Hi, my name is Jeppy and I like to play games.\"]"
   ]
  },
  {
   "cell_type": "code",
   "execution_count": 7,
   "id": "2da17040",
   "metadata": {},
   "outputs": [
    {
     "data": {
      "text/plain": [
       "([0.9843522906303406], 0.9843522906303406)"
      ]
     },
     "execution_count": 7,
     "metadata": {},
     "output_type": "execute_result"
    }
   ],
   "source": [
    "bertscore_calc(A, B)"
   ]
  },
  {
   "cell_type": "code",
   "execution_count": 20,
   "id": "a22dee60",
   "metadata": {},
   "outputs": [],
   "source": [
    "A = [\"Hi, my name is Jeppy and I like to play games. Hi, my name is David and I am good at Python.\"]\n",
    "B = [\"Hi, my name is James and I like to play games. \"]"
   ]
  },
  {
   "cell_type": "code",
   "execution_count": 22,
   "id": "10d13133",
   "metadata": {},
   "outputs": [
    {
     "data": {
      "text/plain": [
       "([0.9455161094665527], 0.9455161094665527)"
      ]
     },
     "execution_count": 22,
     "metadata": {},
     "output_type": "execute_result"
    }
   ],
   "source": [
    "bertscore_calc(A, B)"
   ]
  },
  {
   "cell_type": "markdown",
   "id": "ad75bf60",
   "metadata": {},
   "source": [
    "Is this effective then? We don't know. Let us actually run it."
   ]
  },
  {
   "cell_type": "code",
   "execution_count": 33,
   "id": "3c0ce045",
   "metadata": {
    "scrolled": false
   },
   "outputs": [
    {
     "name": "stdout",
     "output_type": "stream",
     "text": [
      "#  capstone_A0\n",
      "0.9897086024284363\n",
      "#  capstone_A1\n",
      "0.9496819972991943\n",
      "#  capstone_A2\n",
      "0.9606580138206482\n",
      "#  capstone_A3\n",
      "0.9168279767036438\n",
      "#  capstone_A4\n",
      "0.9221943020820618\n",
      "#  capstone_A5\n",
      "0.9201257228851318\n",
      "#  dataScraping_A0\n",
      "0.9368094205856323\n",
      "#  dataScraping_A1\n",
      "0.9313329458236694\n",
      "#  dataScraping_A2\n",
      "0.9192971587181091\n",
      "#  dataScraping_A3\n",
      "0.9186093807220459\n",
      "#  dataScraping_A4\n",
      "0.9400128722190857\n",
      "#  dataScraping_A5\n",
      "0.9218786358833313\n",
      "#  searchEngine_A0\n",
      "0.9541051387786865\n",
      "#  searchEngine_A1\n",
      "0.9346190094947815\n",
      "#  searchEngine_A2\n",
      "0.9450914263725281\n",
      "#  searchEngine_A3\n",
      "0.9433116316795349\n",
      "#  searchEngine_A4\n",
      "0.9286027550697327\n",
      "#  searchEngine_A5\n",
      "0.9244458675384521\n",
      "#  techNews_A0\n",
      "0.9528194069862366\n",
      "#  techNews_A1\n",
      "0.9424868822097778\n",
      "#  techNews_A2\n",
      "0.9532867074012756\n",
      "#  techNews_A3\n",
      "0.9205946326255798\n",
      "#  techNews_A4\n",
      "0.8962640166282654\n",
      "#  techNews_A5\n",
      "0.90642249584198\n"
     ]
    }
   ],
   "source": [
    "data_dir = \"../../data\"\n",
    "res = []\n",
    "for meeting in os.listdir(data_dir):\n",
    "    print(\"# \", meeting)\n",
    "    meeting_dir = f\"{data_dir}/{meeting}/reference\"\n",
    "    ref_action_dir = os.path.join(meeting_dir, \"action.txt\")\n",
    "    out_action_dir = f\"{data_dir}/{meeting}/generated_action.txt\"\n",
    "    \n",
    "    with open(ref_action_dir, encoding='utf-8') as file:\n",
    "        ref_action_lst = [x.strip() for x in file.readlines() if x.strip()]\n",
    "    with open(out_action_dir, encoding='utf-8') as file:\n",
    "        out_action_dir = [x.strip() for x in file.readlines() if x.strip()]\n",
    "    \n",
    "    prediction = bertscore_calc([\" \".join(out_action_dir)], [\" \".join(ref_action_lst)])[0][0]\n",
    "    print(prediction)\n",
    "    res.append(prediction)\n",
    "\n",
    "#     print(f\"print('{meeting}: ', bertscore_calc(\")\n",
    "#     print(\"[ # prediction\")\n",
    "#     for i in out_action_dir:\n",
    "#         print(f\"\\\"{i}\\\", \")\n",
    "#     print(\"]\")\n",
    "#     print(\", [ # references\")\n",
    "#     for i in ref_action_lst:\n",
    "#         print(f\"\\\"{i}\\\", \")\n",
    "#     print(\"]\")\n",
    "#     print(\"))\")\n",
    "#     print()\n"
   ]
  },
  {
   "cell_type": "code",
   "execution_count": 36,
   "id": "f21e8d5c",
   "metadata": {},
   "outputs": [],
   "source": [
    "res = np.array(res)"
   ]
  },
  {
   "cell_type": "code",
   "execution_count": 43,
   "id": "0f07e7df",
   "metadata": {},
   "outputs": [
    {
     "data": {
      "text/html": [
       "<div>\n",
       "<style scoped>\n",
       "    .dataframe tbody tr th:only-of-type {\n",
       "        vertical-align: middle;\n",
       "    }\n",
       "\n",
       "    .dataframe tbody tr th {\n",
       "        vertical-align: top;\n",
       "    }\n",
       "\n",
       "    .dataframe thead th {\n",
       "        text-align: right;\n",
       "    }\n",
       "</style>\n",
       "<table border=\"1\" class=\"dataframe\">\n",
       "  <thead>\n",
       "    <tr style=\"text-align: right;\">\n",
       "      <th></th>\n",
       "      <th>0</th>\n",
       "      <th>1</th>\n",
       "      <th>2</th>\n",
       "      <th>3</th>\n",
       "      <th>4</th>\n",
       "      <th>5</th>\n",
       "    </tr>\n",
       "  </thead>\n",
       "  <tbody>\n",
       "    <tr>\n",
       "      <th>0</th>\n",
       "      <td>0.990</td>\n",
       "      <td>0.950</td>\n",
       "      <td>0.961</td>\n",
       "      <td>0.917</td>\n",
       "      <td>0.922</td>\n",
       "      <td>0.920</td>\n",
       "    </tr>\n",
       "    <tr>\n",
       "      <th>1</th>\n",
       "      <td>0.937</td>\n",
       "      <td>0.931</td>\n",
       "      <td>0.919</td>\n",
       "      <td>0.919</td>\n",
       "      <td>0.940</td>\n",
       "      <td>0.922</td>\n",
       "    </tr>\n",
       "    <tr>\n",
       "      <th>2</th>\n",
       "      <td>0.954</td>\n",
       "      <td>0.935</td>\n",
       "      <td>0.945</td>\n",
       "      <td>0.943</td>\n",
       "      <td>0.929</td>\n",
       "      <td>0.924</td>\n",
       "    </tr>\n",
       "    <tr>\n",
       "      <th>3</th>\n",
       "      <td>0.953</td>\n",
       "      <td>0.942</td>\n",
       "      <td>0.953</td>\n",
       "      <td>0.921</td>\n",
       "      <td>0.896</td>\n",
       "      <td>0.906</td>\n",
       "    </tr>\n",
       "  </tbody>\n",
       "</table>\n",
       "</div>"
      ],
      "text/plain": [
       "       0      1      2      3      4      5\n",
       "0  0.990  0.950  0.961  0.917  0.922  0.920\n",
       "1  0.937  0.931  0.919  0.919  0.940  0.922\n",
       "2  0.954  0.935  0.945  0.943  0.929  0.924\n",
       "3  0.953  0.942  0.953  0.921  0.896  0.906"
      ]
     },
     "execution_count": 43,
     "metadata": {},
     "output_type": "execute_result"
    }
   ],
   "source": [
    "pd.DataFrame(res.reshape(4, 6)).round(3)"
   ]
  },
  {
   "cell_type": "code",
   "execution_count": 55,
   "id": "437b16f6",
   "metadata": {},
   "outputs": [
    {
     "data": {
      "text/html": [
       "<div>\n",
       "<style scoped>\n",
       "    .dataframe tbody tr th:only-of-type {\n",
       "        vertical-align: middle;\n",
       "    }\n",
       "\n",
       "    .dataframe tbody tr th {\n",
       "        vertical-align: top;\n",
       "    }\n",
       "\n",
       "    .dataframe thead th {\n",
       "        text-align: right;\n",
       "    }\n",
       "</style>\n",
       "<table border=\"1\" class=\"dataframe\">\n",
       "  <thead>\n",
       "    <tr style=\"text-align: right;\">\n",
       "      <th></th>\n",
       "      <th>0</th>\n",
       "      <th>1</th>\n",
       "      <th>2</th>\n",
       "      <th>3</th>\n",
       "      <th>4</th>\n",
       "      <th>5</th>\n",
       "    </tr>\n",
       "  </thead>\n",
       "  <tbody>\n",
       "    <tr>\n",
       "      <th>0</th>\n",
       "      <td>0.990</td>\n",
       "      <td>0.950</td>\n",
       "      <td>0.961</td>\n",
       "      <td>0.917</td>\n",
       "      <td>0.922</td>\n",
       "      <td>0.920</td>\n",
       "    </tr>\n",
       "    <tr>\n",
       "      <th>1</th>\n",
       "      <td>0.937</td>\n",
       "      <td>0.931</td>\n",
       "      <td>0.919</td>\n",
       "      <td>0.919</td>\n",
       "      <td>0.940</td>\n",
       "      <td>0.922</td>\n",
       "    </tr>\n",
       "    <tr>\n",
       "      <th>2</th>\n",
       "      <td>0.954</td>\n",
       "      <td>0.935</td>\n",
       "      <td>0.945</td>\n",
       "      <td>0.943</td>\n",
       "      <td>0.929</td>\n",
       "      <td>0.924</td>\n",
       "    </tr>\n",
       "    <tr>\n",
       "      <th>3</th>\n",
       "      <td>0.953</td>\n",
       "      <td>0.942</td>\n",
       "      <td>0.953</td>\n",
       "      <td>0.921</td>\n",
       "      <td>0.896</td>\n",
       "      <td>0.906</td>\n",
       "    </tr>\n",
       "  </tbody>\n",
       "</table>\n",
       "</div>"
      ],
      "text/plain": [
       "       0      1      2      3      4      5\n",
       "0  0.990  0.950  0.961  0.917  0.922  0.920\n",
       "1  0.937  0.931  0.919  0.919  0.940  0.922\n",
       "2  0.954  0.935  0.945  0.943  0.929  0.924\n",
       "3  0.953  0.942  0.953  0.921  0.896  0.906"
      ]
     },
     "execution_count": 55,
     "metadata": {},
     "output_type": "execute_result"
    }
   ],
   "source": [
    "df = pd.DataFrame(res.reshape(4, 6)).round(3)\n",
    "df"
   ]
  },
  {
   "cell_type": "code",
   "execution_count": 56,
   "id": "7477e835",
   "metadata": {},
   "outputs": [],
   "source": [
    "df.index = ['capstone(1-2)', 'scraping(9)', 'search(9)', 'technews(1-2)']"
   ]
  },
  {
   "cell_type": "code",
   "execution_count": 62,
   "id": "85e11bf6",
   "metadata": {},
   "outputs": [
    {
     "data": {
      "text/plain": [
       "Text(0, 0.5, 'Bert Score')"
      ]
     },
     "execution_count": 62,
     "metadata": {},
     "output_type": "execute_result"
    },
    {
     "data": {
      "image/png": "[encoded data removed]",
      "text/plain": [
       "<Figure size 432x288 with 1 Axes>"
      ]
     },
     "metadata": {
      "needs_background": "light"
     },
     "output_type": "display_data"
    }
   ],
   "source": [
    "df.T.plot()\n",
    "plt.title(\"String Bert Score Comparison of Sample Transcripts Action Item Retreival\")\n",
    "plt.xlabel(\"Meeting Codes (A0 - A5 spectrum)\")\n",
    "plt.ylabel(\"Bert Score\")"
   ]
  },
  {
   "cell_type": "code",
   "execution_count": null,
   "id": "7ed70d53",
   "metadata": {},
   "outputs": [],
   "source": []
  }
 ],
 "metadata": {
  "kernelspec": {
   "display_name": "Python 3 (ipykernel)",
   "language": "python",
   "name": "python3"
  },
  "language_info": {
   "codemirror_mode": {
    "name": "ipython",
    "version": 3
   },
   "file_extension": ".py",
   "mimetype": "text/x-python",
   "name": "python",
   "nbconvert_exporter": "python",
   "pygments_lexer": "ipython3",
   "version": "3.9.12"
  }
 },
 "nbformat": 4,
 "nbformat_minor": 5
}
